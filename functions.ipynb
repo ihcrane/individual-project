{
 "cells": [
  {
   "cell_type": "code",
   "execution_count": 1,
   "id": "94156861",
   "metadata": {},
   "outputs": [],
   "source": [
    "import pandas as pd\n",
    "import numpy as np\n",
    "import seaborn as sns\n",
    "import matplotlib.pyplot as plt\n",
    "\n",
    "import warnings\n",
    "warnings.filterwarnings('ignore')\n",
    "\n",
    "from scipy import stats\n",
    "\n",
    "from wrangle import wrangle_cars\n",
    "from prepare import x_y_split, rmse, select_kbest, rfe\n",
    "\n",
    "from xgboost import XGBRegressor\n",
    "from sklearn.linear_model import LassoLars\n",
    "from sklearn.preprocessing import PolynomialFeatures\n",
    "from sklearn.linear_model import TweedieRegressor\n",
    "\n",
    "from sklearn.feature_selection import SelectKBest, f_regression, RFE\n",
    "from sklearn.linear_model import LinearRegression\n",
    "from sklearn.preprocessing import MinMaxScaler"
   ]
  },
  {
   "cell_type": "code",
   "execution_count": 2,
   "id": "73368930",
   "metadata": {},
   "outputs": [],
   "source": [
    "def pearson_test(df, col1):\n",
    "    corr, p = stats.pearsonr(df[col1], df['price'])\n",
    "    \n",
    "    print(f'The correlation between {col1} and price is: {corr:.2f}')"
   ]
  },
  {
   "cell_type": "code",
   "execution_count": 4,
   "id": "7337523d",
   "metadata": {},
   "outputs": [],
   "source": [
    "def horsepower_plot(df, col1, col2):\n",
    "    sns.lmplot(x='horsepower', y='price',data=df.sample(3000), line_kws={'color':'red'}, size=6)\n",
    "    plt.title('Horsepower to Price Graph')\n",
    "    plt.xlabel('Horsepower')\n",
    "    plt.ylabel('Price')\n",
    "    plt.show()"
   ]
  },
  {
   "cell_type": "code",
   "execution_count": 5,
   "id": "5bb65c87",
   "metadata": {},
   "outputs": [],
   "source": [
    "def mileage_plot(df, col1, col2):\n",
    "    sns.lmplot(x='mileage', y='price',data=df.sample(3000), line_kws={'color':'red'}, size=6,)\n",
    "    plt.title('Mileage to Price Graph')\n",
    "    plt.xlabel('Mileage')\n",
    "    plt.ylabel('Price')\n",
    "    plt.xlim((-1000,190000))\n",
    "    plt.show()"
   ]
  },
  {
   "cell_type": "code",
   "execution_count": 6,
   "id": "e7e58c03",
   "metadata": {},
   "outputs": [],
   "source": [
    "def width_plot(df, col1, col2):\n",
    "    sns.lmplot(x='width', y='price',data=df.sample(3000), line_kws={'color':'red'}, size=6)\n",
    "    plt.title('Width to Price Graph')\n",
    "    plt.xlabel('Width')\n",
    "    plt.ylabel('Price')\n",
    "    plt.show()"
   ]
  },
  {
   "cell_type": "code",
   "execution_count": 7,
   "id": "45a01cd0",
   "metadata": {},
   "outputs": [],
   "source": [
    "def length_plot(df, col1, col2):\n",
    "    sns.lmplot(x='length', y='price',data=df.sample(3000), line_kws={'color':'red'}, size=6)\n",
    "    plt.title('Length to Price Graph')\n",
    "    plt.xlabel('Length')\n",
    "    plt.ylabel('Price')\n",
    "    plt.show()"
   ]
  },
  {
   "cell_type": "code",
   "execution_count": 8,
   "id": "d5a627e9",
   "metadata": {},
   "outputs": [],
   "source": [
    "def dealer_plot(df, col1, col2):\n",
    "    fig,ax = plt.subplots(figsize=(10,9))\n",
    "    bplot = sns.barplot(x='dealer', y='price',data=df)\n",
    "    plt.title('Does whether the car is sold by a dealer affect price?')\n",
    "    plt.xlabel('Sold by a Dealer')\n",
    "    plt.ylabel('Price')\n",
    "    ax.bar_label(bplot.containers[0], padding=9)\n",
    "    plt.axhline(df['price'].mean(), label='Average Price')\n",
    "    plt.legend(loc='upper left')\n",
    "    plt.show()"
   ]
  },
  {
   "cell_type": "code",
   "execution_count": 9,
   "id": "f2a38c90",
   "metadata": {},
   "outputs": [],
   "source": [
    "def ttest_samp(df, col):\n",
    "    \n",
    "    sold_dealer = df[df['dealer']=='True']['price']\n",
    "\n",
    "    t, p = stats.ttest_1samp(sold_dealer, df['price'].mean())\n",
    "\n",
    "    if p/2 > alpha:\n",
    "        print(\"We fail to reject null\")\n",
    "    elif t < 0:\n",
    "        print(\"We fail to reject null\")\n",
    "    else:\n",
    "        print(\"We reject null\")"
   ]
  },
  {
   "cell_type": "code",
   "execution_count": 11,
   "id": "963645e9",
   "metadata": {},
   "outputs": [],
   "source": [
    "def split_scale(df):\n",
    "    \n",
    "    df = pd.get_dummies(df, columns=['dealer', 'owners'])\n",
    "    \n",
    "    X_train, y_train, X_val, y_val, X_test, y_test = x_y_split(df, 'price')\n",
    "    \n",
    "    mms = MinMaxScaler()\n",
    "    \n",
    "    X_train[['back_legroom','city_mpg','daysonmarket',\n",
    "         'displ','front_legroom','tank_size','hwy_mpg',\n",
    "         'horsepower','length','seats','mileage',\n",
    "         'seller_rating','wheelbase','width']] = mms.fit_transform(X_train[['back_legroom','city_mpg','daysonmarket',\n",
    "                                                                            'displ','front_legroom','tank_size','hwy_mpg',\n",
    "                                                                            'horsepower','length','seats','mileage',\n",
    "                                                                            'seller_rating','wheelbase','width']])\n",
    "    X_val[['back_legroom','city_mpg','daysonmarket',\n",
    "         'displ','front_legroom','tank_size','hwy_mpg',\n",
    "         'horsepower','length','seats','mileage',\n",
    "         'seller_rating','wheelbase','width']] = mms.fit_transform(X_val[['back_legroom','city_mpg','daysonmarket',\n",
    "                                                                            'displ','front_legroom','tank_size','hwy_mpg',\n",
    "                                                                            'horsepower','length','seats','mileage',\n",
    "                                                                            'seller_rating','wheelbase','width']])\n",
    "    X_test[['back_legroom','city_mpg','daysonmarket',\n",
    "         'displ','front_legroom','tank_size','hwy_mpg',\n",
    "         'horsepower','length','seats','mileage',\n",
    "         'seller_rating','wheelbase','width']] = mms.fit_transform(X_test[['back_legroom','city_mpg','daysonmarket',\n",
    "                                                                            'displ','front_legroom','tank_size','hwy_mpg',\n",
    "                                                                            'horsepower','length','seats','mileage',\n",
    "                                                                            'seller_rating','wheelbase','width']])\n",
    "    \n",
    "    return X_train, y_train, X_val, y_val, X_test, y_test"
   ]
  },
  {
   "cell_type": "code",
   "execution_count": null,
   "id": "44c9667c",
   "metadata": {},
   "outputs": [],
   "source": [
    "def preds_table(y_train):\n",
    "    preds = pd.DataFrame({'actual':y_train,\n",
    "                          'baseline':y_train.mean()})\n",
    "    \n",
    "    baseline_rmse = rmse(preds, 'baseline')\n",
    "    \n",
    "    return preds, baseline_rmse"
   ]
  },
  {
   "cell_type": "code",
   "execution_count": 14,
   "id": "85b9767d",
   "metadata": {},
   "outputs": [],
   "source": [
    "def linear_reg(X_train, y_train, preds):\n",
    "    \n",
    "    lm = LinearRegression()\n",
    "\n",
    "    lm.fit(X_train, y_train)\n",
    "    \n",
    "    preds['lm_preds'] = lm.predict(X_train)\n",
    "    \n",
    "    lm_rmse = rmse(preds, 'lm_preds')\n",
    "    \n",
    "    return preds, lm_rmse"
   ]
  },
  {
   "cell_type": "code",
   "execution_count": 16,
   "id": "05f2b63b",
   "metadata": {},
   "outputs": [],
   "source": [
    "def lasso(X_train, y_train, preds):\n",
    "    \n",
    "    lasso = LassoLars(alpha=0)\n",
    "\n",
    "    lasso.fit(X_train, y_train)\n",
    "\n",
    "    preds['lasso_preds'] = lasso.predict(X_train)\n",
    "    \n",
    "    lasso_rmse = rmse(preds, 'lasso_preds')\n",
    "    \n",
    "    return preds, lasso_rmse"
   ]
  },
  {
   "cell_type": "code",
   "execution_count": 17,
   "id": "32f1f26f",
   "metadata": {},
   "outputs": [],
   "source": [
    "def lm_poly(X_train, y_train, preds):\n",
    "    \n",
    "    pf = PolynomialFeatures(degree=2)\n",
    "\n",
    "    pf.fit(X_train, y_train)\n",
    "    X_polynomial = pf.transform(X_train)\n",
    "    \n",
    "    lmtwo = LinearRegression()\n",
    "    lmtwo.fit(X_polynomial, y_train)\n",
    "    \n",
    "    preds['poly_preds'] = lmtwo.predict(X_polynomial)\n",
    "    \n",
    "    poly_rmse = rmse(preds, 'poly_preds')\n",
    "    \n",
    "    return preds, poly_rmse"
   ]
  },
  {
   "cell_type": "code",
   "execution_count": 27,
   "id": "35135477",
   "metadata": {},
   "outputs": [],
   "source": [
    "def lasso_poly(X_train, y_train, preds):\n",
    "    \n",
    "    pf = PolynomialFeatures(degree=2)\n",
    "\n",
    "    pf.fit(X_train, y_train)\n",
    "    X_polynomial = pf.transform(X_train)\n",
    "    \n",
    "    lassotwo = LassoLars(alpha=0)\n",
    "\n",
    "    lassotwo.fit(X_polynomial, y_train)\n",
    "    \n",
    "    preds['lasso_poly'] = lassotwo.predict(X_polynomial)\n",
    "    \n",
    "    lassopoly_rmse = rmse(preds, 'lasso_poly')\n",
    "    \n",
    "    return preds, lassopoly_rmse"
   ]
  },
  {
   "cell_type": "code",
   "execution_count": 19,
   "id": "f498a68d",
   "metadata": {},
   "outputs": [],
   "source": [
    "def xgb_model(X_train, y_train, preds):\n",
    "    \n",
    "    xgb = XGBRegressor(objective='reg:squarederror',n_estimators=20, max_depth=4, \n",
    "                   subsample=0.5, colsample_bytree=0.7, seed=42)\n",
    "    \n",
    "    xgb.fit(X_train, y_train)\n",
    "    \n",
    "    preds['xgb'] = xgb.predict(X_train)\n",
    "    \n",
    "    xgb_rmse = rmse(preds, 'xgb')\n",
    "    \n",
    "    return preds, xgb_rmse"
   ]
  },
  {
   "cell_type": "code",
   "execution_count": null,
   "id": "0adfc90f",
   "metadata": {},
   "outputs": [],
   "source": [
    "def rmse_table(baseline_rmse, lm_rmse, lasso_rmse, poly_rmse, lassopoly_rmse, xgb_rmse):\n",
    "    \n",
    "    rmse_df = pd.DataFrame({'model':['baseline','linear', 'lasso','linear_poly', 'lasso_poly', 'xgb'],\n",
    "            'rmse':[baseline_rmse, lm_rmse, lasso_rmse, poly_rmse, lassopoly_rmse, xgb_rmse]})\n",
    "    \n",
    "    return rmse_df"
   ]
  },
  {
   "cell_type": "code",
   "execution_count": 25,
   "id": "fec264b1",
   "metadata": {},
   "outputs": [],
   "source": [
    "def rmse_graph(rmse_df):\n",
    "    fig, ax = plt.subplots(figsize=(10,7))\n",
    "    bplot = sns.barplot(x='model',y='rmse', data=rmse_df.sort_values('rmse'))\n",
    "    plt.ylabel('RMSE')\n",
    "    plt.xlabel('Model')\n",
    "    plt.title('RMSE for Each Tested Model')\n",
    "    plt.ylim(0, 12000)\n",
    "    ax.bar_label(bplot.containers[0], padding= 6)\n",
    "    plt.show()"
   ]
  },
  {
   "cell_type": "code",
   "execution_count": 21,
   "id": "d8493b7b",
   "metadata": {},
   "outputs": [],
   "source": [
    "def val_tests(X_train, y_train, X_val, y_val):\n",
    "    \n",
    "    pf = PolynomialFeatures(degree=2)\n",
    "    pf.fit(X_train, y_train)\n",
    "    X_val_polynomial = pf.transform(X_val)\n",
    "    \n",
    "    lmtwo = LinearRegression()\n",
    "    lmtwo.fit(X_polynomial, y_train)\n",
    "    \n",
    "    lasso = LassoLars(alpha=0)\n",
    "    lasso.fit(X_train, y_train)\n",
    "    \n",
    "    xgb = XGBRegressor(objective='reg:squarederror',n_estimators=20, max_depth=4, \n",
    "                   subsample=0.5, colsample_bytree=0.7, seed=42)\n",
    "    xgb.fit(X_train, y_train)\n",
    "    \n",
    "    lm = LinearRegression()\n",
    "    lm.fit(X_train, y_train)\n",
    "    \n",
    "    val_preds = pd.DataFrame({'actual':y_val,\n",
    "                              'baseline':y_train.mean()})\n",
    "    \n",
    "    val_preds['lasso_preds'] = lasso.predict(X_val)\n",
    "\n",
    "    val_preds['poly_preds'] = lmtwo.predict(X_val_polynomial)\n",
    "\n",
    "    val_preds['linear_preds'] = lm.predict(X_val)\n",
    "\n",
    "    val_preds['xgb_preds'] = xgb.predict(X_val)\n",
    "    \n",
    "    return val_preds\n"
   ]
  },
  {
   "cell_type": "code",
   "execution_count": 23,
   "id": "dc2b3926",
   "metadata": {},
   "outputs": [],
   "source": [
    "def val_rmse(val_preds):\n",
    "    baseline_rmse = rmse(val_preds, 'baseline')\n",
    "\n",
    "    lasso_rmse = rmse(val_preds, 'lasso_preds')\n",
    "\n",
    "    poly_rmse = rmse(val_preds, 'poly_preds')\n",
    "\n",
    "    linear_rmse = rmse(val_preds, 'linear_preds')\n",
    "\n",
    "    xgb_rmse = rmse(val_preds, 'xgb_preds')\n",
    "    \n",
    "    val_rmse_df = pd.DataFrame({'model':['baseline', 'lasso','poly', 'linear', 'xgb'],\n",
    "              'rmse':[baseline_rmse, lasso_rmse, poly_rmse, linear_rmse, xgb_rmse]})\n",
    "    \n",
    "    return val_rmse"
   ]
  },
  {
   "cell_type": "code",
   "execution_count": 24,
   "id": "362db42a",
   "metadata": {},
   "outputs": [],
   "source": [
    "def val_plot(val_rmse):\n",
    "    fig, ax = plt.subplots(figsize=(10,7))\n",
    "    bplot = sns.barplot(x='model',y='rmse', data=val_rmse.sort_values('rmse'))\n",
    "    plt.ylabel('RMSE')\n",
    "    plt.xlabel('Model')\n",
    "    plt.title('RMSE for Each Tested Model')\n",
    "    plt.ylim(0, 12000)\n",
    "    ax.bar_label(bplot.containers[0], padding= 6)\n",
    "    plt.show()"
   ]
  },
  {
   "cell_type": "code",
   "execution_count": 26,
   "id": "25ca8b27",
   "metadata": {},
   "outputs": [],
   "source": [
    "def test_set(X_train, y_train, X_test, y_test):\n",
    "    \n",
    "    xgb = XGBRegressor(objective='reg:squarederror',n_estimators=20, max_depth=4, \n",
    "                   subsample=0.5, colsample_bytree=0.7, seed=42)\n",
    "    \n",
    "    xgb.fit(X_train, y_train)\n",
    "    \n",
    "    test_preds = pd.DataFrame({'actual':y_test,\n",
    "                          'test_pred':xgb.predict(X_test)})\n",
    "    \n",
    "    test_score = round(rmse(test_preds, 'test_pred'), 2)\n",
    "    \n",
    "    print(f'The final test RMSE is: {test_score}')"
   ]
  },
  {
   "cell_type": "code",
   "execution_count": null,
   "id": "9ac85b5d",
   "metadata": {},
   "outputs": [],
   "source": []
  }
 ],
 "metadata": {
  "kernelspec": {
   "display_name": "Python 3 (ipykernel)",
   "language": "python",
   "name": "python3"
  },
  "language_info": {
   "codemirror_mode": {
    "name": "ipython",
    "version": 3
   },
   "file_extension": ".py",
   "mimetype": "text/x-python",
   "name": "python",
   "nbconvert_exporter": "python",
   "pygments_lexer": "ipython3",
   "version": "3.9.13"
  }
 },
 "nbformat": 4,
 "nbformat_minor": 5
}
