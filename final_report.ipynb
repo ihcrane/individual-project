{
 "cells": [
  {
   "cell_type": "markdown",
   "id": "da0726ac",
   "metadata": {},
   "source": [
    "# Used Car Project\n",
    "\n",
    "## Project Description\n",
    "I retrieved my data from Kaggle: https://www.kaggle.com/datasets/ananaymital/us-used-cars-dataset \n",
    "This is a large dataset about used cars. I will be creating a machine learning model to predict the price of used cars."
   ]
  },
  {
   "cell_type": "markdown",
   "id": "b9349990",
   "metadata": {},
   "source": [
    "## Goals\n",
    "- To discover the drivers of value of cars\n",
    "- Use the drivers to develop a ML model that determines the value of cars\n",
    "- Deliever a report to a technical data science team"
   ]
  },
  {
   "cell_type": "code",
   "execution_count": null,
   "id": "444e091c",
   "metadata": {},
   "outputs": [],
   "source": [
    "import wrangle as w\n",
    "import functions as f\n",
    "import prepare as p"
   ]
  },
  {
   "cell_type": "markdown",
   "id": "c3faea20",
   "metadata": {},
   "source": [
    "## Acquire\n",
    "- data gathered from the Kaggle\n",
    "- each row represents a vehicle\n",
    "- each column represents a feature of the vehicle\n",
    "- the data gathered from the database started at 3 million rows and 66 columns"
   ]
  },
  {
   "cell_type": "markdown",
   "id": "734b024b",
   "metadata": {},
   "source": [
    "## Prepare\n",
    "\n",
    "### Prepare Actions:\n",
    "- Removed columns that did not contain useful information\n",
    "- Removed null values\n",
    "- Checked that column data types were appropriate\n",
    "- Split data into train, validate and test (approx. 60/20/20), stratifying on 'price'"
   ]
  },
  {
   "cell_type": "markdown",
   "id": "07fc9ca4",
   "metadata": {},
   "source": [
    "## Data Dictionary"
   ]
  },
  {
   "cell_type": "markdown",
   "id": "2f6e2750",
   "metadata": {},
   "source": [
    "| Target Variable | Definition|\n",
    "|-----------------|-----------|\n",
    "| price | The total price of the vehicle |\n",
    "\n",
    "| Feature  | Definition |\n",
    "|----------|------------|\n",
    "| back_legroom |  Legroom in the rear seat |\n",
    "| body_type | Body type of the vehicle (Hatchback, Sedan, Convertible, etc.) |\n",
    "| city | City where the car is listed |\n",
    "| city_mpg | Fuel economy in city traffic (km/L) |\n",
    "| daysonmarket | Number of days since vehicle was listed |\n",
    "| cyl | Engine configuration (I4, V6, etc.) |\n",
    "| displ | Engine displacement |\n",
    "| dealer | Whether the seller is a dealer |\n",
    "| front_legroom | Legroom for inches in the passenger seat |\n",
    "| tank_size | Fuel tank's max capacity in gallons |\n",
    "| fuel_type | Dominant type of fuel used in vehicle |\n",
    "| accidents | Whether the vin has any accidents registered |\n",
    "| hiway_mpg | Fuel economy in highway traffic (km/L) |\n",
    "| horsepower | Horsepower of the vehicle |\n",
    "| new | Whether the vehicle is new |\n",
    "| length | Length of vehicle in inches |\n",
    "| listed_date | Date the vehicle was first listed |\n",
    "| model | Model of the car |\n",
    "| seats | Number of seats in the vehicle |\n",
    "| mileage | The odometer reading on the vehicle |\n",
    "| owners | Number of owneres the vehicle has had |\n",
    "| seller_rating | Rating of the seller |\n",
    "| tran | Transmission type of the vehicle (Manual, Auto, etc.) |\n",
    "| drive_type | The drive train of the vehicle (FWD, RWD, etc.) |\n",
    "| wheelbase | Measurement of wheelbase in inches |\n",
    "| width | Width of the vehicle in inches |\n",
    "| year | Year the car was made |"
   ]
  },
  {
   "cell_type": "code",
   "execution_count": null,
   "id": "e3835634",
   "metadata": {},
   "outputs": [],
   "source": [
    "# acquring and cleaning the data\n",
    "cars = wrangle_cars()\n",
    "\n",
    "# splitting the data into train, validate and test\n",
    "train, val, test = p.train_val_test(cars)\n",
    "\n",
    "# taking a quick look at the data\n",
    "train.head()"
   ]
  },
  {
   "cell_type": "markdown",
   "id": "289dae49",
   "metadata": {},
   "source": [
    "## Does horsepower affect the price of the vehicle?"
   ]
  },
  {
   "cell_type": "markdown",
   "id": "706e7a20",
   "metadata": {},
   "source": [
    "**Ho: Horsepower and price are independent of each other.**  \n",
    "**Ha: Horsepower and price are related.**\n",
    "- determine if the horsepower and price are related\n",
    "- confidence interval of 95%\n",
    "- alpha of .05"
   ]
  },
  {
   "cell_type": "code",
   "execution_count": null,
   "id": "c92bd3e0",
   "metadata": {},
   "outputs": [],
   "source": [
    "# visualization of horsepower compared to price in a relplot\n",
    "f.horsepower_plot(train, 'horsepower','price')"
   ]
  },
  {
   "cell_type": "code",
   "execution_count": null,
   "id": "a61af01d",
   "metadata": {},
   "outputs": [],
   "source": [
    "# Pearsonr stats test to determine if the two variables are related.\n",
    "f.pearson_test(train, 'horsepower')"
   ]
  },
  {
   "cell_type": "markdown",
   "id": "9efad9e6",
   "metadata": {},
   "source": [
    "## Takeaways:\n",
    "\n",
    "- The stats test rejects the null therefore horsepower and price are related.\n",
    "- In this graph we can see there is a positive correlation between horsepower and price."
   ]
  },
  {
   "cell_type": "markdown",
   "id": "6578559e",
   "metadata": {},
   "source": [
    "## Does mileage affect price of the vehicle?\n",
    "**Ho: The mileage and price of the vehicle are indpendent of each other.**  \n",
    "**Ha: Mileage and price are related.**\n",
    "\n",
    "- determine if mileage and price are related\n",
    "- confidence interval of 95%\n",
    "- alpha of .05"
   ]
  },
  {
   "cell_type": "code",
   "execution_count": null,
   "id": "6408a2e3",
   "metadata": {},
   "outputs": [],
   "source": [
    "# visualizing the price of the vehicle based on mileage\n",
    "f.mileage_plot(train, 'mileage', 'price')"
   ]
  },
  {
   "cell_type": "code",
   "execution_count": null,
   "id": "f0ea4f60",
   "metadata": {},
   "outputs": [],
   "source": [
    "# testing for a relationship between mileage and price\n",
    "f.pearson_test(train, 'mileage')"
   ]
  },
  {
   "cell_type": "markdown",
   "id": "ecceb63e",
   "metadata": {},
   "source": [
    "## Takeways:\n",
    "\n",
    "- The stats test proves that there is a relationship between mileage and price of a vehicle."
   ]
  },
  {
   "cell_type": "markdown",
   "id": "5eacd993",
   "metadata": {},
   "source": [
    "## Do the dimensions of the vehcile affect price?\n",
    "**Ho: The width and price of the vehicle are indpendent of each other.**  \n",
    "**Ha: The width and price are related.**\n",
    "\n",
    "- determine if width and price are related\n",
    "- confidence interval of 95%\n",
    "- alpha of .05"
   ]
  },
  {
   "cell_type": "code",
   "execution_count": null,
   "id": "8d501a9d",
   "metadata": {},
   "outputs": [],
   "source": [
    "# visualizing the correlation between width and price\n",
    "f.width_plot(train, 'width', 'price')"
   ]
  },
  {
   "cell_type": "code",
   "execution_count": null,
   "id": "dbe26b5e",
   "metadata": {},
   "outputs": [],
   "source": [
    "# testing for a relationship between width and price\n",
    "f.pearson_test(train, 'width')"
   ]
  },
  {
   "cell_type": "markdown",
   "id": "4b885385",
   "metadata": {},
   "source": [
    "**Ho: The length and price of the vehicle are indpendent of each other.**  \n",
    "**Ha: Length and price are related.**\n",
    "\n",
    "- determine if length and price are related\n",
    "- confidence interval of 95%\n",
    "- alpha of .05"
   ]
  },
  {
   "cell_type": "code",
   "execution_count": null,
   "id": "44fcdbe9",
   "metadata": {},
   "outputs": [],
   "source": [
    "# visualizing the correlation between length and price\n",
    "f.length_plot(train, 'length', 'price')"
   ]
  },
  {
   "cell_type": "code",
   "execution_count": null,
   "id": "f1842f7a",
   "metadata": {},
   "outputs": [],
   "source": [
    "# testing for a relationship between length and price\n",
    "f.pearson_test(train, 'length')"
   ]
  },
  {
   "cell_type": "markdown",
   "id": "9b26d101",
   "metadata": {},
   "source": [
    "## Takeways:\n",
    "\n",
    "- The stats test proves that there is a relationship between width and price.\n",
    "- The stats test proves that there is a relationship between length and price."
   ]
  },
  {
   "cell_type": "markdown",
   "id": "c769307d",
   "metadata": {},
   "source": [
    "## Does whether the car is sold by a dealer affect price?\n",
    "**Ho: A vehicle being sold by a dealer and price of the vehicle are indpendent of each other.**  \n",
    "**Ha: A vehicle being sold by a dealer and price are related.**\n",
    "\n",
    "- determine if width and price are related\n",
    "- confidence interval of 95%\n",
    "- alpha of .05"
   ]
  },
  {
   "cell_type": "code",
   "execution_count": null,
   "id": "e127a1a1",
   "metadata": {},
   "outputs": [],
   "source": [
    "# visualization of the comparison between whether a car is sold by a dealer and price\n",
    "f.dealer_plot(train, 'dealer', 'price')"
   ]
  },
  {
   "cell_type": "code",
   "execution_count": null,
   "id": "03943388",
   "metadata": {},
   "outputs": [],
   "source": [
    "# testing correlation between whether a vehicle is sold by a dealer and price\n",
    "f.ttest_samp(train, 'dealer')"
   ]
  },
  {
   "cell_type": "markdown",
   "id": "e4ade126",
   "metadata": {},
   "source": [
    "## Takeaways\n",
    "- The stats test proves there a correlation between whether a vehcile is sold by a dealer"
   ]
  },
  {
   "cell_type": "markdown",
   "id": "3fe868bc",
   "metadata": {},
   "source": [
    "## Exploration Summary\n",
    "- Horsepower and price are positively correlated. As horsepower increases so does price.\n",
    "- Mileage and power are negatively correlated. As mileage increases, price decreases.\n",
    "- Width and Length are positively correlated to price. As the vehicle gets larger, the price increases.\n",
    "- Whether a car being sold by a dealer affects price. The average price of vehicles are higher if they are sold by a dealer"
   ]
  },
  {
   "cell_type": "markdown",
   "id": "4717fd44",
   "metadata": {},
   "source": [
    "# Modeling\n",
    "- I will be using RMSE as the evaluation metric\n",
    "- The baseline RMSE is 10888"
   ]
  },
  {
   "cell_type": "code",
   "execution_count": null,
   "id": "9c4ac003",
   "metadata": {},
   "outputs": [],
   "source": [
    "# splitting data again and dropping columns not modeling with\n",
    "X_train, y_train, X_val, y_val, X_test, y_test = f.split_scale(cars)"
   ]
  },
  {
   "cell_type": "code",
   "execution_count": null,
   "id": "b2ff801e",
   "metadata": {},
   "outputs": [],
   "source": [
    "# creating prediction table\n",
    "preds, baseline_rmse = f.preds_table(y_train)"
   ]
  },
  {
   "cell_type": "code",
   "execution_count": null,
   "id": "a2941006",
   "metadata": {},
   "outputs": [],
   "source": [
    "preds, lm_rmse = f.linear_reg(X_train, y_train, preds)"
   ]
  },
  {
   "cell_type": "code",
   "execution_count": null,
   "id": "5828addb",
   "metadata": {},
   "outputs": [],
   "source": [
    "preds, lasso_rmse = f.lasso(X_train, y_train, preds)"
   ]
  },
  {
   "cell_type": "code",
   "execution_count": null,
   "id": "4a76d6b9",
   "metadata": {},
   "outputs": [],
   "source": [
    "preds, poly_rmse = f.lm_poly(X_train, y_train, preds)"
   ]
  },
  {
   "cell_type": "code",
   "execution_count": null,
   "id": "714bafb8",
   "metadata": {},
   "outputs": [],
   "source": [
    "preds, lassopoly_rmse = f.lasso_poly(X_train, y_train, preds)"
   ]
  },
  {
   "cell_type": "code",
   "execution_count": null,
   "id": "91222c7c",
   "metadata": {},
   "outputs": [],
   "source": [
    "preds, xgb_rmse = f.xgb_model(X_train, y_train, preds)"
   ]
  },
  {
   "cell_type": "code",
   "execution_count": null,
   "id": "6a6902e1",
   "metadata": {},
   "outputs": [],
   "source": [
    "rmse_df = f.rmse_table(baseline_rmse, lm_rmse, lasso_rmse, poly_rmse, lassopoly_rmse, xgb_rmse)"
   ]
  },
  {
   "cell_type": "code",
   "execution_count": null,
   "id": "8b7b9f1e",
   "metadata": {},
   "outputs": [],
   "source": [
    "f.rmse_graph(rmse_df)"
   ]
  },
  {
   "cell_type": "code",
   "execution_count": null,
   "id": "771aefd0",
   "metadata": {},
   "outputs": [],
   "source": [
    "val_preds = f.val_tests(X_train, y_train, X_val, y_val)"
   ]
  },
  {
   "cell_type": "code",
   "execution_count": null,
   "id": "5bf1f537",
   "metadata": {},
   "outputs": [],
   "source": [
    "val_rmse = f.val_rmse(val_preds)"
   ]
  },
  {
   "cell_type": "code",
   "execution_count": null,
   "id": "15006fd0",
   "metadata": {},
   "outputs": [],
   "source": [
    "f.val_plot(val_rmse)"
   ]
  },
  {
   "cell_type": "code",
   "execution_count": null,
   "id": "c78712ab",
   "metadata": {},
   "outputs": [],
   "source": [
    "f.test_set(X_train, y_train, X_test, y_test)"
   ]
  }
 ],
 "metadata": {
  "kernelspec": {
   "display_name": "Python 3 (ipykernel)",
   "language": "python",
   "name": "python3"
  },
  "language_info": {
   "codemirror_mode": {
    "name": "ipython",
    "version": 3
   },
   "file_extension": ".py",
   "mimetype": "text/x-python",
   "name": "python",
   "nbconvert_exporter": "python",
   "pygments_lexer": "ipython3",
   "version": "3.9.13"
  }
 },
 "nbformat": 4,
 "nbformat_minor": 5
}
