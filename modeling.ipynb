{
 "cells": [
  {
   "cell_type": "code",
   "execution_count": 4,
   "id": "f9c48dde",
   "metadata": {},
   "outputs": [],
   "source": [
    "import pandas as pd\n",
    "import numpy as np\n",
    "import seaborn as sns\n",
    "import matplotlib.pyplot as plt\n",
    "\n",
    "import warnings\n",
    "warnings.filterwarnings('ignore')\n",
    "\n",
    "from wrangle import wrangle_cars\n",
    "from prepare import x_y_split, rmse, select_kbest, rfe\n",
    "\n",
    "from scipy import stats\n",
    "\n",
    "pd.set_option('display.max_columns', None)\n",
    "\n",
    "import xgboost\n",
    "from sklearn.linear_model import LassoLars\n",
    "from sklearn.preprocessing import PolynomialFeatures\n",
    "from sklearn.linear_model import TweedieRegressor\n",
    "\n",
    "from sklearn.feature_selection import SelectKBest, f_regression, RFE\n",
    "from sklearn.linear_model import LinearRegression\n",
    "from sklearn.preprocessing import MinMaxScaler\n",
    "\n",
    "from sklearn.model_selection import GridSearchCV\n",
    "\n",
    "from hypopt import GridSearch"
   ]
  },
  {
   "cell_type": "code",
   "execution_count": 5,
   "id": "ac2e1181",
   "metadata": {},
   "outputs": [
    {
     "name": "stdout",
     "output_type": "stream",
     "text": [
      "dealer column ignored\n",
      "seats column ignored\n",
      "Memory usage of dataframe is 341.04 MB\n",
      "Memory usage after optimization is: 92.78 MB\n",
      "Decreased by 72.8%\n"
     ]
    },
    {
     "data": {
      "text/plain": [
       "(2629427, 17)"
      ]
     },
     "execution_count": 5,
     "metadata": {},
     "output_type": "execute_result"
    }
   ],
   "source": [
    "df = wrangle_cars()\n",
    "df.shape"
   ]
  },
  {
   "cell_type": "code",
   "execution_count": 9,
   "id": "bd8c8c6f",
   "metadata": {},
   "outputs": [
    {
     "data": {
      "text/html": [
       "<div>\n",
       "<style scoped>\n",
       "    .dataframe tbody tr th:only-of-type {\n",
       "        vertical-align: middle;\n",
       "    }\n",
       "\n",
       "    .dataframe tbody tr th {\n",
       "        vertical-align: top;\n",
       "    }\n",
       "\n",
       "    .dataframe thead th {\n",
       "        text-align: right;\n",
       "    }\n",
       "</style>\n",
       "<table border=\"1\" class=\"dataframe\">\n",
       "  <thead>\n",
       "    <tr style=\"text-align: right;\">\n",
       "      <th></th>\n",
       "      <th>back_legroom</th>\n",
       "      <th>city_mpg</th>\n",
       "      <th>daysonmarket</th>\n",
       "      <th>displ</th>\n",
       "      <th>dealer</th>\n",
       "      <th>front_legroom</th>\n",
       "      <th>tank_size</th>\n",
       "      <th>hwy_mpg</th>\n",
       "      <th>horsepower</th>\n",
       "      <th>length</th>\n",
       "      <th>seats</th>\n",
       "      <th>mileage</th>\n",
       "      <th>owners</th>\n",
       "      <th>price</th>\n",
       "      <th>seller_rating</th>\n",
       "      <th>wheelbase</th>\n",
       "      <th>width</th>\n",
       "    </tr>\n",
       "  </thead>\n",
       "  <tbody>\n",
       "    <tr>\n",
       "      <th>0</th>\n",
       "      <td>38.093750</td>\n",
       "      <td>27.0</td>\n",
       "      <td>55.0</td>\n",
       "      <td>1500.0</td>\n",
       "      <td>True</td>\n",
       "      <td>42.00000</td>\n",
       "      <td>15.796875</td>\n",
       "      <td>36.0</td>\n",
       "      <td>160.0</td>\n",
       "      <td>193.75</td>\n",
       "      <td>5.0</td>\n",
       "      <td>42394.0</td>\n",
       "      <td>1.0</td>\n",
       "      <td>14639.0</td>\n",
       "      <td>3.447266</td>\n",
       "      <td>111.3750</td>\n",
       "      <td>73.0000</td>\n",
       "    </tr>\n",
       "    <tr>\n",
       "      <th>1</th>\n",
       "      <td>27.296875</td>\n",
       "      <td>18.0</td>\n",
       "      <td>36.0</td>\n",
       "      <td>3500.0</td>\n",
       "      <td>True</td>\n",
       "      <td>45.40625</td>\n",
       "      <td>17.406250</td>\n",
       "      <td>24.0</td>\n",
       "      <td>311.0</td>\n",
       "      <td>184.75</td>\n",
       "      <td>4.0</td>\n",
       "      <td>62251.0</td>\n",
       "      <td>1.0</td>\n",
       "      <td>32000.0</td>\n",
       "      <td>2.800781</td>\n",
       "      <td>107.5000</td>\n",
       "      <td>81.5000</td>\n",
       "    </tr>\n",
       "    <tr>\n",
       "      <th>2</th>\n",
       "      <td>38.406250</td>\n",
       "      <td>18.0</td>\n",
       "      <td>27.0</td>\n",
       "      <td>3600.0</td>\n",
       "      <td>True</td>\n",
       "      <td>41.00000</td>\n",
       "      <td>19.406250</td>\n",
       "      <td>27.0</td>\n",
       "      <td>310.0</td>\n",
       "      <td>204.25</td>\n",
       "      <td>8.0</td>\n",
       "      <td>36410.0</td>\n",
       "      <td>1.0</td>\n",
       "      <td>23723.0</td>\n",
       "      <td>3.447266</td>\n",
       "      <td>120.8750</td>\n",
       "      <td>78.6250</td>\n",
       "    </tr>\n",
       "    <tr>\n",
       "      <th>3</th>\n",
       "      <td>36.812500</td>\n",
       "      <td>15.0</td>\n",
       "      <td>27.0</td>\n",
       "      <td>3600.0</td>\n",
       "      <td>True</td>\n",
       "      <td>41.31250</td>\n",
       "      <td>22.000000</td>\n",
       "      <td>22.0</td>\n",
       "      <td>281.0</td>\n",
       "      <td>203.75</td>\n",
       "      <td>8.0</td>\n",
       "      <td>36055.0</td>\n",
       "      <td>1.0</td>\n",
       "      <td>22422.0</td>\n",
       "      <td>3.447266</td>\n",
       "      <td>118.8750</td>\n",
       "      <td>78.5000</td>\n",
       "    </tr>\n",
       "    <tr>\n",
       "      <th>4</th>\n",
       "      <td>38.593750</td>\n",
       "      <td>18.0</td>\n",
       "      <td>24.0</td>\n",
       "      <td>3600.0</td>\n",
       "      <td>True</td>\n",
       "      <td>40.31250</td>\n",
       "      <td>24.593750</td>\n",
       "      <td>25.0</td>\n",
       "      <td>295.0</td>\n",
       "      <td>189.75</td>\n",
       "      <td>5.0</td>\n",
       "      <td>25745.0</td>\n",
       "      <td>1.0</td>\n",
       "      <td>29424.0</td>\n",
       "      <td>3.447266</td>\n",
       "      <td>114.8125</td>\n",
       "      <td>84.8125</td>\n",
       "    </tr>\n",
       "  </tbody>\n",
       "</table>\n",
       "</div>"
      ],
      "text/plain": [
       "   back_legroom  city_mpg  daysonmarket   displ dealer  front_legroom  \\\n",
       "0     38.093750      27.0          55.0  1500.0   True       42.00000   \n",
       "1     27.296875      18.0          36.0  3500.0   True       45.40625   \n",
       "2     38.406250      18.0          27.0  3600.0   True       41.00000   \n",
       "3     36.812500      15.0          27.0  3600.0   True       41.31250   \n",
       "4     38.593750      18.0          24.0  3600.0   True       40.31250   \n",
       "\n",
       "   tank_size  hwy_mpg  horsepower  length  seats  mileage  owners    price  \\\n",
       "0  15.796875     36.0       160.0  193.75    5.0  42394.0     1.0  14639.0   \n",
       "1  17.406250     24.0       311.0  184.75    4.0  62251.0     1.0  32000.0   \n",
       "2  19.406250     27.0       310.0  204.25    8.0  36410.0     1.0  23723.0   \n",
       "3  22.000000     22.0       281.0  203.75    8.0  36055.0     1.0  22422.0   \n",
       "4  24.593750     25.0       295.0  189.75    5.0  25745.0     1.0  29424.0   \n",
       "\n",
       "   seller_rating  wheelbase    width  \n",
       "0       3.447266   111.3750  73.0000  \n",
       "1       2.800781   107.5000  81.5000  \n",
       "2       3.447266   120.8750  78.6250  \n",
       "3       3.447266   118.8750  78.5000  \n",
       "4       3.447266   114.8125  84.8125  "
      ]
     },
     "execution_count": 9,
     "metadata": {},
     "output_type": "execute_result"
    }
   ],
   "source": [
    "df.head()"
   ]
  },
  {
   "cell_type": "code",
   "execution_count": 10,
   "id": "6be8d1a4",
   "metadata": {},
   "outputs": [],
   "source": [
    "df = pd.get_dummies(df, columns=['dealer', 'owners'])"
   ]
  },
  {
   "cell_type": "code",
   "execution_count": 11,
   "id": "be707d39",
   "metadata": {},
   "outputs": [],
   "source": [
    "cols = ['back_legroom','city_mpg','daysonmarket','displ','front_legroom',\n",
    "        'tank_size','hwy_mpg','horsepower','length','seats','mileage','seller_rating','wheelbase','width']"
   ]
  },
  {
   "cell_type": "code",
   "execution_count": 12,
   "id": "7780681a",
   "metadata": {},
   "outputs": [],
   "source": [
    "X_train, y_train, X_val, y_val, X_test, y_test = x_y_split(df, 'price')"
   ]
  },
  {
   "cell_type": "code",
   "execution_count": 13,
   "id": "6ab76dc8",
   "metadata": {},
   "outputs": [],
   "source": [
    "mms = MinMaxScaler()"
   ]
  },
  {
   "cell_type": "code",
   "execution_count": 14,
   "id": "ae67053c",
   "metadata": {},
   "outputs": [],
   "source": [
    "X_train[['back_legroom','city_mpg','daysonmarket',\n",
    "         'displ','front_legroom','tank_size','hwy_mpg',\n",
    "         'horsepower','length','seats','mileage',\n",
    "         'seller_rating','wheelbase','width']] = mms.fit_transform(X_train[['back_legroom','city_mpg','daysonmarket',\n",
    "                                                                            'displ','front_legroom','tank_size','hwy_mpg',\n",
    "                                                                            'horsepower','length','seats','mileage',\n",
    "                                                                            'seller_rating','wheelbase','width']])"
   ]
  },
  {
   "cell_type": "code",
   "execution_count": 15,
   "id": "a2e013ca",
   "metadata": {},
   "outputs": [],
   "source": [
    "X_val[['back_legroom','city_mpg','daysonmarket',\n",
    "         'displ','front_legroom','tank_size','hwy_mpg',\n",
    "         'horsepower','length','seats','mileage',\n",
    "         'seller_rating','wheelbase','width']] = mms.transform(X_val[['back_legroom','city_mpg','daysonmarket',\n",
    "                                                                            'displ','front_legroom','tank_size','hwy_mpg',\n",
    "                                                                            'horsepower','length','seats','mileage',\n",
    "                                                                            'seller_rating','wheelbase','width']])"
   ]
  },
  {
   "cell_type": "code",
   "execution_count": 16,
   "id": "651821cc",
   "metadata": {},
   "outputs": [],
   "source": [
    "X_test[['back_legroom','city_mpg','daysonmarket',\n",
    "         'displ','front_legroom','tank_size','hwy_mpg',\n",
    "         'horsepower','length','seats','mileage',\n",
    "         'seller_rating','wheelbase','width']] = mms.fit_transform(X_test[['back_legroom','city_mpg','daysonmarket',\n",
    "                                                                            'displ','front_legroom','tank_size','hwy_mpg',\n",
    "                                                                            'horsepower','length','seats','mileage',\n",
    "                                                                            'seller_rating','wheelbase','width']])"
   ]
  },
  {
   "cell_type": "code",
   "execution_count": 17,
   "id": "7d612729",
   "metadata": {},
   "outputs": [
    {
     "data": {
      "text/html": [
       "<div>\n",
       "<style scoped>\n",
       "    .dataframe tbody tr th:only-of-type {\n",
       "        vertical-align: middle;\n",
       "    }\n",
       "\n",
       "    .dataframe tbody tr th {\n",
       "        vertical-align: top;\n",
       "    }\n",
       "\n",
       "    .dataframe thead th {\n",
       "        text-align: right;\n",
       "    }\n",
       "</style>\n",
       "<table border=\"1\" class=\"dataframe\">\n",
       "  <thead>\n",
       "    <tr style=\"text-align: right;\">\n",
       "      <th></th>\n",
       "      <th>back_legroom</th>\n",
       "      <th>city_mpg</th>\n",
       "      <th>daysonmarket</th>\n",
       "      <th>displ</th>\n",
       "      <th>front_legroom</th>\n",
       "      <th>tank_size</th>\n",
       "      <th>hwy_mpg</th>\n",
       "      <th>horsepower</th>\n",
       "      <th>length</th>\n",
       "      <th>seats</th>\n",
       "      <th>mileage</th>\n",
       "      <th>seller_rating</th>\n",
       "      <th>wheelbase</th>\n",
       "      <th>width</th>\n",
       "      <th>dealer_False</th>\n",
       "      <th>dealer_True</th>\n",
       "      <th>owners_1.0</th>\n",
       "      <th>owners_2.0</th>\n",
       "      <th>owners_3.0</th>\n",
       "      <th>owners_4.0</th>\n",
       "      <th>owners_5.0</th>\n",
       "      <th>owners_6.0</th>\n",
       "      <th>owners_7.0</th>\n",
       "      <th>owners_8.0</th>\n",
       "      <th>owners_9.0</th>\n",
       "    </tr>\n",
       "  </thead>\n",
       "  <tbody>\n",
       "    <tr>\n",
       "      <th>1767494</th>\n",
       "      <td>0.379215</td>\n",
       "      <td>0.365854</td>\n",
       "      <td>0.050179</td>\n",
       "      <td>0.175676</td>\n",
       "      <td>0.630986</td>\n",
       "      <td>0.339616</td>\n",
       "      <td>0.450</td>\n",
       "      <td>0.113946</td>\n",
       "      <td>0.334184</td>\n",
       "      <td>0.230769</td>\n",
       "      <td>0.076079</td>\n",
       "      <td>0.929314</td>\n",
       "      <td>0.287910</td>\n",
       "      <td>0.265270</td>\n",
       "      <td>1</td>\n",
       "      <td>0</td>\n",
       "      <td>1</td>\n",
       "      <td>0</td>\n",
       "      <td>0</td>\n",
       "      <td>0</td>\n",
       "      <td>0</td>\n",
       "      <td>0</td>\n",
       "      <td>0</td>\n",
       "      <td>0</td>\n",
       "      <td>0</td>\n",
       "    </tr>\n",
       "    <tr>\n",
       "      <th>2555289</th>\n",
       "      <td>0.489332</td>\n",
       "      <td>0.317073</td>\n",
       "      <td>0.222222</td>\n",
       "      <td>0.121622</td>\n",
       "      <td>0.574648</td>\n",
       "      <td>0.304659</td>\n",
       "      <td>0.450</td>\n",
       "      <td>0.215986</td>\n",
       "      <td>0.394133</td>\n",
       "      <td>0.230769</td>\n",
       "      <td>0.139209</td>\n",
       "      <td>0.797644</td>\n",
       "      <td>0.322746</td>\n",
       "      <td>0.204188</td>\n",
       "      <td>1</td>\n",
       "      <td>0</td>\n",
       "      <td>1</td>\n",
       "      <td>0</td>\n",
       "      <td>0</td>\n",
       "      <td>0</td>\n",
       "      <td>0</td>\n",
       "      <td>0</td>\n",
       "      <td>0</td>\n",
       "      <td>0</td>\n",
       "      <td>0</td>\n",
       "    </tr>\n",
       "    <tr>\n",
       "      <th>518052</th>\n",
       "      <td>0.497591</td>\n",
       "      <td>0.439024</td>\n",
       "      <td>0.121864</td>\n",
       "      <td>0.243243</td>\n",
       "      <td>0.828169</td>\n",
       "      <td>0.433956</td>\n",
       "      <td>0.650</td>\n",
       "      <td>0.183673</td>\n",
       "      <td>0.529337</td>\n",
       "      <td>0.230769</td>\n",
       "      <td>0.613275</td>\n",
       "      <td>0.955648</td>\n",
       "      <td>0.371926</td>\n",
       "      <td>0.256545</td>\n",
       "      <td>1</td>\n",
       "      <td>0</td>\n",
       "      <td>1</td>\n",
       "      <td>0</td>\n",
       "      <td>0</td>\n",
       "      <td>0</td>\n",
       "      <td>0</td>\n",
       "      <td>0</td>\n",
       "      <td>0</td>\n",
       "      <td>0</td>\n",
       "      <td>0</td>\n",
       "    </tr>\n",
       "    <tr>\n",
       "      <th>822907</th>\n",
       "      <td>0.515485</td>\n",
       "      <td>0.195122</td>\n",
       "      <td>0.028674</td>\n",
       "      <td>0.391892</td>\n",
       "      <td>0.439436</td>\n",
       "      <td>0.487865</td>\n",
       "      <td>0.325</td>\n",
       "      <td>0.355442</td>\n",
       "      <td>0.644133</td>\n",
       "      <td>0.384615</td>\n",
       "      <td>0.647929</td>\n",
       "      <td>0.810118</td>\n",
       "      <td>0.566598</td>\n",
       "      <td>0.717278</td>\n",
       "      <td>0</td>\n",
       "      <td>1</td>\n",
       "      <td>1</td>\n",
       "      <td>0</td>\n",
       "      <td>0</td>\n",
       "      <td>0</td>\n",
       "      <td>0</td>\n",
       "      <td>0</td>\n",
       "      <td>0</td>\n",
       "      <td>0</td>\n",
       "      <td>0</td>\n",
       "    </tr>\n",
       "    <tr>\n",
       "      <th>126536</th>\n",
       "      <td>0.599449</td>\n",
       "      <td>0.219512</td>\n",
       "      <td>0.146953</td>\n",
       "      <td>0.378378</td>\n",
       "      <td>0.459155</td>\n",
       "      <td>0.474388</td>\n",
       "      <td>0.350</td>\n",
       "      <td>0.350340</td>\n",
       "      <td>0.559949</td>\n",
       "      <td>0.461538</td>\n",
       "      <td>0.201061</td>\n",
       "      <td>0.783784</td>\n",
       "      <td>0.399590</td>\n",
       "      <td>0.441536</td>\n",
       "      <td>1</td>\n",
       "      <td>0</td>\n",
       "      <td>1</td>\n",
       "      <td>0</td>\n",
       "      <td>0</td>\n",
       "      <td>0</td>\n",
       "      <td>0</td>\n",
       "      <td>0</td>\n",
       "      <td>0</td>\n",
       "      <td>0</td>\n",
       "      <td>0</td>\n",
       "    </tr>\n",
       "    <tr>\n",
       "      <th>...</th>\n",
       "      <td>...</td>\n",
       "      <td>...</td>\n",
       "      <td>...</td>\n",
       "      <td>...</td>\n",
       "      <td>...</td>\n",
       "      <td>...</td>\n",
       "      <td>...</td>\n",
       "      <td>...</td>\n",
       "      <td>...</td>\n",
       "      <td>...</td>\n",
       "      <td>...</td>\n",
       "      <td>...</td>\n",
       "      <td>...</td>\n",
       "      <td>...</td>\n",
       "      <td>...</td>\n",
       "      <td>...</td>\n",
       "      <td>...</td>\n",
       "      <td>...</td>\n",
       "      <td>...</td>\n",
       "      <td>...</td>\n",
       "      <td>...</td>\n",
       "      <td>...</td>\n",
       "      <td>...</td>\n",
       "      <td>...</td>\n",
       "      <td>...</td>\n",
       "    </tr>\n",
       "    <tr>\n",
       "      <th>110268</th>\n",
       "      <td>0.435650</td>\n",
       "      <td>0.146341</td>\n",
       "      <td>0.096774</td>\n",
       "      <td>0.675676</td>\n",
       "      <td>0.467606</td>\n",
       "      <td>0.649592</td>\n",
       "      <td>0.225</td>\n",
       "      <td>0.545918</td>\n",
       "      <td>0.911990</td>\n",
       "      <td>0.307692</td>\n",
       "      <td>0.267525</td>\n",
       "      <td>0.882190</td>\n",
       "      <td>0.883197</td>\n",
       "      <td>0.462478</td>\n",
       "      <td>0</td>\n",
       "      <td>1</td>\n",
       "      <td>1</td>\n",
       "      <td>0</td>\n",
       "      <td>0</td>\n",
       "      <td>0</td>\n",
       "      <td>0</td>\n",
       "      <td>0</td>\n",
       "      <td>0</td>\n",
       "      <td>0</td>\n",
       "      <td>0</td>\n",
       "    </tr>\n",
       "    <tr>\n",
       "      <th>1692743</th>\n",
       "      <td>0.555403</td>\n",
       "      <td>0.487805</td>\n",
       "      <td>0.304659</td>\n",
       "      <td>0.148649</td>\n",
       "      <td>0.602817</td>\n",
       "      <td>0.304659</td>\n",
       "      <td>0.625</td>\n",
       "      <td>0.085034</td>\n",
       "      <td>0.433674</td>\n",
       "      <td>0.230769</td>\n",
       "      <td>0.181797</td>\n",
       "      <td>0.710326</td>\n",
       "      <td>0.322746</td>\n",
       "      <td>0.181501</td>\n",
       "      <td>0</td>\n",
       "      <td>1</td>\n",
       "      <td>1</td>\n",
       "      <td>0</td>\n",
       "      <td>0</td>\n",
       "      <td>0</td>\n",
       "      <td>0</td>\n",
       "      <td>0</td>\n",
       "      <td>0</td>\n",
       "      <td>0</td>\n",
       "      <td>0</td>\n",
       "    </tr>\n",
       "    <tr>\n",
       "      <th>2356330</th>\n",
       "      <td>0.647626</td>\n",
       "      <td>0.292683</td>\n",
       "      <td>0.017921</td>\n",
       "      <td>0.229730</td>\n",
       "      <td>0.430986</td>\n",
       "      <td>0.380047</td>\n",
       "      <td>0.400</td>\n",
       "      <td>0.171769</td>\n",
       "      <td>0.373724</td>\n",
       "      <td>0.230769</td>\n",
       "      <td>0.483675</td>\n",
       "      <td>0.801802</td>\n",
       "      <td>0.276639</td>\n",
       "      <td>0.176265</td>\n",
       "      <td>0</td>\n",
       "      <td>1</td>\n",
       "      <td>0</td>\n",
       "      <td>0</td>\n",
       "      <td>1</td>\n",
       "      <td>0</td>\n",
       "      <td>0</td>\n",
       "      <td>0</td>\n",
       "      <td>0</td>\n",
       "      <td>0</td>\n",
       "      <td>0</td>\n",
       "    </tr>\n",
       "    <tr>\n",
       "      <th>2229084</th>\n",
       "      <td>0.383345</td>\n",
       "      <td>0.268293</td>\n",
       "      <td>0.799283</td>\n",
       "      <td>0.175676</td>\n",
       "      <td>0.602817</td>\n",
       "      <td>0.380047</td>\n",
       "      <td>0.425</td>\n",
       "      <td>0.336735</td>\n",
       "      <td>0.440051</td>\n",
       "      <td>0.230769</td>\n",
       "      <td>0.491677</td>\n",
       "      <td>1.000000</td>\n",
       "      <td>0.371926</td>\n",
       "      <td>0.232112</td>\n",
       "      <td>1</td>\n",
       "      <td>0</td>\n",
       "      <td>0</td>\n",
       "      <td>0</td>\n",
       "      <td>1</td>\n",
       "      <td>0</td>\n",
       "      <td>0</td>\n",
       "      <td>0</td>\n",
       "      <td>0</td>\n",
       "      <td>0</td>\n",
       "      <td>0</td>\n",
       "    </tr>\n",
       "    <tr>\n",
       "      <th>2219110</th>\n",
       "      <td>0.655884</td>\n",
       "      <td>0.146341</td>\n",
       "      <td>0.007168</td>\n",
       "      <td>0.621622</td>\n",
       "      <td>0.856338</td>\n",
       "      <td>0.784364</td>\n",
       "      <td>0.250</td>\n",
       "      <td>0.477891</td>\n",
       "      <td>0.864796</td>\n",
       "      <td>0.461538</td>\n",
       "      <td>0.683430</td>\n",
       "      <td>0.677062</td>\n",
       "      <td>0.711066</td>\n",
       "      <td>0.493892</td>\n",
       "      <td>0</td>\n",
       "      <td>1</td>\n",
       "      <td>0</td>\n",
       "      <td>0</td>\n",
       "      <td>1</td>\n",
       "      <td>0</td>\n",
       "      <td>0</td>\n",
       "      <td>0</td>\n",
       "      <td>0</td>\n",
       "      <td>0</td>\n",
       "      <td>0</td>\n",
       "    </tr>\n",
       "  </tbody>\n",
       "</table>\n",
       "<p>1577656 rows × 25 columns</p>\n",
       "</div>"
      ],
      "text/plain": [
       "         back_legroom  city_mpg  daysonmarket     displ  front_legroom  \\\n",
       "1767494      0.379215  0.365854      0.050179  0.175676       0.630986   \n",
       "2555289      0.489332  0.317073      0.222222  0.121622       0.574648   \n",
       "518052       0.497591  0.439024      0.121864  0.243243       0.828169   \n",
       "822907       0.515485  0.195122      0.028674  0.391892       0.439436   \n",
       "126536       0.599449  0.219512      0.146953  0.378378       0.459155   \n",
       "...               ...       ...           ...       ...            ...   \n",
       "110268       0.435650  0.146341      0.096774  0.675676       0.467606   \n",
       "1692743      0.555403  0.487805      0.304659  0.148649       0.602817   \n",
       "2356330      0.647626  0.292683      0.017921  0.229730       0.430986   \n",
       "2229084      0.383345  0.268293      0.799283  0.175676       0.602817   \n",
       "2219110      0.655884  0.146341      0.007168  0.621622       0.856338   \n",
       "\n",
       "         tank_size  hwy_mpg  horsepower    length     seats   mileage  \\\n",
       "1767494   0.339616    0.450    0.113946  0.334184  0.230769  0.076079   \n",
       "2555289   0.304659    0.450    0.215986  0.394133  0.230769  0.139209   \n",
       "518052    0.433956    0.650    0.183673  0.529337  0.230769  0.613275   \n",
       "822907    0.487865    0.325    0.355442  0.644133  0.384615  0.647929   \n",
       "126536    0.474388    0.350    0.350340  0.559949  0.461538  0.201061   \n",
       "...            ...      ...         ...       ...       ...       ...   \n",
       "110268    0.649592    0.225    0.545918  0.911990  0.307692  0.267525   \n",
       "1692743   0.304659    0.625    0.085034  0.433674  0.230769  0.181797   \n",
       "2356330   0.380047    0.400    0.171769  0.373724  0.230769  0.483675   \n",
       "2229084   0.380047    0.425    0.336735  0.440051  0.230769  0.491677   \n",
       "2219110   0.784364    0.250    0.477891  0.864796  0.461538  0.683430   \n",
       "\n",
       "         seller_rating  wheelbase     width  dealer_False  dealer_True  \\\n",
       "1767494       0.929314   0.287910  0.265270             1            0   \n",
       "2555289       0.797644   0.322746  0.204188             1            0   \n",
       "518052        0.955648   0.371926  0.256545             1            0   \n",
       "822907        0.810118   0.566598  0.717278             0            1   \n",
       "126536        0.783784   0.399590  0.441536             1            0   \n",
       "...                ...        ...       ...           ...          ...   \n",
       "110268        0.882190   0.883197  0.462478             0            1   \n",
       "1692743       0.710326   0.322746  0.181501             0            1   \n",
       "2356330       0.801802   0.276639  0.176265             0            1   \n",
       "2229084       1.000000   0.371926  0.232112             1            0   \n",
       "2219110       0.677062   0.711066  0.493892             0            1   \n",
       "\n",
       "         owners_1.0  owners_2.0  owners_3.0  owners_4.0  owners_5.0  \\\n",
       "1767494           1           0           0           0           0   \n",
       "2555289           1           0           0           0           0   \n",
       "518052            1           0           0           0           0   \n",
       "822907            1           0           0           0           0   \n",
       "126536            1           0           0           0           0   \n",
       "...             ...         ...         ...         ...         ...   \n",
       "110268            1           0           0           0           0   \n",
       "1692743           1           0           0           0           0   \n",
       "2356330           0           0           1           0           0   \n",
       "2229084           0           0           1           0           0   \n",
       "2219110           0           0           1           0           0   \n",
       "\n",
       "         owners_6.0  owners_7.0  owners_8.0  owners_9.0  \n",
       "1767494           0           0           0           0  \n",
       "2555289           0           0           0           0  \n",
       "518052            0           0           0           0  \n",
       "822907            0           0           0           0  \n",
       "126536            0           0           0           0  \n",
       "...             ...         ...         ...         ...  \n",
       "110268            0           0           0           0  \n",
       "1692743           0           0           0           0  \n",
       "2356330           0           0           0           0  \n",
       "2229084           0           0           0           0  \n",
       "2219110           0           0           0           0  \n",
       "\n",
       "[1577656 rows x 25 columns]"
      ]
     },
     "execution_count": 17,
     "metadata": {},
     "output_type": "execute_result"
    }
   ],
   "source": [
    "X_train"
   ]
  },
  {
   "cell_type": "code",
   "execution_count": 14,
   "id": "bc3962c7",
   "metadata": {},
   "outputs": [
    {
     "data": {
      "text/html": [
       "<style>#sk-container-id-1 {color: black;background-color: white;}#sk-container-id-1 pre{padding: 0;}#sk-container-id-1 div.sk-toggleable {background-color: white;}#sk-container-id-1 label.sk-toggleable__label {cursor: pointer;display: block;width: 100%;margin-bottom: 0;padding: 0.3em;box-sizing: border-box;text-align: center;}#sk-container-id-1 label.sk-toggleable__label-arrow:before {content: \"▸\";float: left;margin-right: 0.25em;color: #696969;}#sk-container-id-1 label.sk-toggleable__label-arrow:hover:before {color: black;}#sk-container-id-1 div.sk-estimator:hover label.sk-toggleable__label-arrow:before {color: black;}#sk-container-id-1 div.sk-toggleable__content {max-height: 0;max-width: 0;overflow: hidden;text-align: left;background-color: #f0f8ff;}#sk-container-id-1 div.sk-toggleable__content pre {margin: 0.2em;color: black;border-radius: 0.25em;background-color: #f0f8ff;}#sk-container-id-1 input.sk-toggleable__control:checked~div.sk-toggleable__content {max-height: 200px;max-width: 100%;overflow: auto;}#sk-container-id-1 input.sk-toggleable__control:checked~label.sk-toggleable__label-arrow:before {content: \"▾\";}#sk-container-id-1 div.sk-estimator input.sk-toggleable__control:checked~label.sk-toggleable__label {background-color: #d4ebff;}#sk-container-id-1 div.sk-label input.sk-toggleable__control:checked~label.sk-toggleable__label {background-color: #d4ebff;}#sk-container-id-1 input.sk-hidden--visually {border: 0;clip: rect(1px 1px 1px 1px);clip: rect(1px, 1px, 1px, 1px);height: 1px;margin: -1px;overflow: hidden;padding: 0;position: absolute;width: 1px;}#sk-container-id-1 div.sk-estimator {font-family: monospace;background-color: #f0f8ff;border: 1px dotted black;border-radius: 0.25em;box-sizing: border-box;margin-bottom: 0.5em;}#sk-container-id-1 div.sk-estimator:hover {background-color: #d4ebff;}#sk-container-id-1 div.sk-parallel-item::after {content: \"\";width: 100%;border-bottom: 1px solid gray;flex-grow: 1;}#sk-container-id-1 div.sk-label:hover label.sk-toggleable__label {background-color: #d4ebff;}#sk-container-id-1 div.sk-serial::before {content: \"\";position: absolute;border-left: 1px solid gray;box-sizing: border-box;top: 0;bottom: 0;left: 50%;z-index: 0;}#sk-container-id-1 div.sk-serial {display: flex;flex-direction: column;align-items: center;background-color: white;padding-right: 0.2em;padding-left: 0.2em;position: relative;}#sk-container-id-1 div.sk-item {position: relative;z-index: 1;}#sk-container-id-1 div.sk-parallel {display: flex;align-items: stretch;justify-content: center;background-color: white;position: relative;}#sk-container-id-1 div.sk-item::before, #sk-container-id-1 div.sk-parallel-item::before {content: \"\";position: absolute;border-left: 1px solid gray;box-sizing: border-box;top: 0;bottom: 0;left: 50%;z-index: -1;}#sk-container-id-1 div.sk-parallel-item {display: flex;flex-direction: column;z-index: 1;position: relative;background-color: white;}#sk-container-id-1 div.sk-parallel-item:first-child::after {align-self: flex-end;width: 50%;}#sk-container-id-1 div.sk-parallel-item:last-child::after {align-self: flex-start;width: 50%;}#sk-container-id-1 div.sk-parallel-item:only-child::after {width: 0;}#sk-container-id-1 div.sk-dashed-wrapped {border: 1px dashed gray;margin: 0 0.4em 0.5em 0.4em;box-sizing: border-box;padding-bottom: 0.4em;background-color: white;}#sk-container-id-1 div.sk-label label {font-family: monospace;font-weight: bold;display: inline-block;line-height: 1.2em;}#sk-container-id-1 div.sk-label-container {text-align: center;}#sk-container-id-1 div.sk-container {/* jupyter's `normalize.less` sets `[hidden] { display: none; }` but bootstrap.min.css set `[hidden] { display: none !important; }` so we also need the `!important` here to be able to override the default hidden behavior on the sphinx rendered scikit-learn.org. See: https://github.com/scikit-learn/scikit-learn/issues/21755 */display: inline-block !important;position: relative;}#sk-container-id-1 div.sk-text-repr-fallback {display: none;}</style><div id=\"sk-container-id-1\" class=\"sk-top-container\"><div class=\"sk-text-repr-fallback\"><pre>LinearRegression()</pre><b>In a Jupyter environment, please rerun this cell to show the HTML representation or trust the notebook. <br />On GitHub, the HTML representation is unable to render, please try loading this page with nbviewer.org.</b></div><div class=\"sk-container\" hidden><div class=\"sk-item\"><div class=\"sk-estimator sk-toggleable\"><input class=\"sk-toggleable__control sk-hidden--visually\" id=\"sk-estimator-id-1\" type=\"checkbox\" checked><label for=\"sk-estimator-id-1\" class=\"sk-toggleable__label sk-toggleable__label-arrow\">LinearRegression</label><div class=\"sk-toggleable__content\"><pre>LinearRegression()</pre></div></div></div></div></div>"
      ],
      "text/plain": [
       "LinearRegression()"
      ]
     },
     "execution_count": 14,
     "metadata": {},
     "output_type": "execute_result"
    }
   ],
   "source": [
    "lm = LinearRegression()\n",
    "\n",
    "lm.fit(X_train, y_train)"
   ]
  },
  {
   "cell_type": "code",
   "execution_count": 15,
   "id": "5463039d",
   "metadata": {},
   "outputs": [],
   "source": [
    "lm_preds = lm.predict(X_train)"
   ]
  },
  {
   "cell_type": "code",
   "execution_count": 16,
   "id": "f859e43d",
   "metadata": {},
   "outputs": [],
   "source": [
    "preds = pd.DataFrame({'actual':y_train,\n",
    "                      'baseline':y_train.mean(),\n",
    "                      'lm_preds':lm_preds})"
   ]
  },
  {
   "cell_type": "code",
   "execution_count": 17,
   "id": "39bab363",
   "metadata": {},
   "outputs": [
    {
     "data": {
      "text/plain": [
       "10887.95335368072"
      ]
     },
     "execution_count": 17,
     "metadata": {},
     "output_type": "execute_result"
    }
   ],
   "source": [
    "baseline_rmse = rmse(preds, 'baseline')\n",
    "baseline_rmse"
   ]
  },
  {
   "cell_type": "code",
   "execution_count": 18,
   "id": "eb3e157f",
   "metadata": {},
   "outputs": [
    {
     "data": {
      "text/plain": [
       "5645.265095635456"
      ]
     },
     "execution_count": 18,
     "metadata": {},
     "output_type": "execute_result"
    }
   ],
   "source": [
    "lm_rmse = rmse(preds, 'lm_preds')\n",
    "lm_rmse"
   ]
  },
  {
   "cell_type": "code",
   "execution_count": 19,
   "id": "db2754f5",
   "metadata": {},
   "outputs": [
    {
     "name": "stdout",
     "output_type": "stream",
     "text": [
      "0\n",
      "5672.87616646089\n",
      "0.05\n",
      "5693.464323239411\n",
      "0.1\n",
      "5723.7589047757765\n",
      "0.15000000000000002\n",
      "5786.047701151452\n",
      "0.2\n",
      "5852.498611704235\n",
      "0.25\n",
      "5906.14527420381\n",
      "0.3\n",
      "5919.699992398263\n",
      "0.35\n",
      "5934.220757605837\n",
      "0.39999999999999997\n",
      "5949.680663699523\n",
      "0.44999999999999996\n",
      "5962.771167837987\n",
      "0.49999999999999994\n",
      "5977.16856044733\n",
      "0.5499999999999999\n",
      "5993.040630598128\n",
      "0.6\n",
      "6010.377026443516\n",
      "0.65\n",
      "6029.163789448749\n",
      "0.7000000000000001\n",
      "6049.388068226405\n",
      "0.7500000000000001\n",
      "6071.036155385668\n",
      "0.8000000000000002\n",
      "6094.092221159768\n",
      "0.8500000000000002\n",
      "6117.891139927222\n",
      "0.9000000000000002\n",
      "6140.075243838629\n",
      "0.9500000000000003\n",
      "6163.44027309424\n"
     ]
    }
   ],
   "source": [
    "i = 0\n",
    "while(i < 1):\n",
    "    \n",
    "    lasso = LassoLars(alpha=i)\n",
    "\n",
    "    lasso.fit(X_train, y_train)\n",
    "    \n",
    "    preds['lasso_preds'] = lasso.predict(X_train)\n",
    "        \n",
    "    print(i)\n",
    "    print(rmse(preds, 'lasso_preds'))\n",
    "    \n",
    "    i += .05"
   ]
  },
  {
   "cell_type": "code",
   "execution_count": 20,
   "id": "fac09956",
   "metadata": {},
   "outputs": [
    {
     "data": {
      "text/html": [
       "<div>\n",
       "<style scoped>\n",
       "    .dataframe tbody tr th:only-of-type {\n",
       "        vertical-align: middle;\n",
       "    }\n",
       "\n",
       "    .dataframe tbody tr th {\n",
       "        vertical-align: top;\n",
       "    }\n",
       "\n",
       "    .dataframe thead th {\n",
       "        text-align: right;\n",
       "    }\n",
       "</style>\n",
       "<table border=\"1\" class=\"dataframe\">\n",
       "  <thead>\n",
       "    <tr style=\"text-align: right;\">\n",
       "      <th></th>\n",
       "      <th>actual</th>\n",
       "      <th>baseline</th>\n",
       "      <th>lm_preds</th>\n",
       "      <th>lasso_preds</th>\n",
       "    </tr>\n",
       "  </thead>\n",
       "  <tbody>\n",
       "    <tr>\n",
       "      <th>1330834</th>\n",
       "      <td>17957.0</td>\n",
       "      <td>22393.753906</td>\n",
       "      <td>17514.525391</td>\n",
       "      <td>17944.302734</td>\n",
       "    </tr>\n",
       "    <tr>\n",
       "      <th>88155</th>\n",
       "      <td>30997.0</td>\n",
       "      <td>22393.753906</td>\n",
       "      <td>29052.048828</td>\n",
       "      <td>29308.757812</td>\n",
       "    </tr>\n",
       "    <tr>\n",
       "      <th>1904413</th>\n",
       "      <td>9995.0</td>\n",
       "      <td>22393.753906</td>\n",
       "      <td>6444.899414</td>\n",
       "      <td>5907.584961</td>\n",
       "    </tr>\n",
       "    <tr>\n",
       "      <th>123408</th>\n",
       "      <td>37995.0</td>\n",
       "      <td>22393.753906</td>\n",
       "      <td>29679.759766</td>\n",
       "      <td>28320.308594</td>\n",
       "    </tr>\n",
       "    <tr>\n",
       "      <th>1211562</th>\n",
       "      <td>17800.0</td>\n",
       "      <td>22393.753906</td>\n",
       "      <td>13934.644531</td>\n",
       "      <td>13628.726562</td>\n",
       "    </tr>\n",
       "  </tbody>\n",
       "</table>\n",
       "</div>"
      ],
      "text/plain": [
       "          actual      baseline      lm_preds   lasso_preds\n",
       "1330834  17957.0  22393.753906  17514.525391  17944.302734\n",
       "88155    30997.0  22393.753906  29052.048828  29308.757812\n",
       "1904413   9995.0  22393.753906   6444.899414   5907.584961\n",
       "123408   37995.0  22393.753906  29679.759766  28320.308594\n",
       "1211562  17800.0  22393.753906  13934.644531  13628.726562"
      ]
     },
     "execution_count": 20,
     "metadata": {},
     "output_type": "execute_result"
    }
   ],
   "source": [
    "lasso = LassoLars(alpha=0)\n",
    "\n",
    "lasso.fit(X_train, y_train)\n",
    "    \n",
    "preds['lasso_preds'] = lasso.predict(X_train)\n",
    "\n",
    "preds.head()"
   ]
  },
  {
   "cell_type": "code",
   "execution_count": 21,
   "id": "dc15567e",
   "metadata": {},
   "outputs": [
    {
     "data": {
      "text/plain": [
       "5672.87616646089"
      ]
     },
     "execution_count": 21,
     "metadata": {},
     "output_type": "execute_result"
    }
   ],
   "source": [
    "lasso_rmse = rmse(preds, 'lasso_preds')\n",
    "lasso_rmse"
   ]
  },
  {
   "cell_type": "code",
   "execution_count": 22,
   "id": "21b8c628",
   "metadata": {},
   "outputs": [
    {
     "data": {
      "text/html": [
       "<style>#sk-container-id-2 {color: black;background-color: white;}#sk-container-id-2 pre{padding: 0;}#sk-container-id-2 div.sk-toggleable {background-color: white;}#sk-container-id-2 label.sk-toggleable__label {cursor: pointer;display: block;width: 100%;margin-bottom: 0;padding: 0.3em;box-sizing: border-box;text-align: center;}#sk-container-id-2 label.sk-toggleable__label-arrow:before {content: \"▸\";float: left;margin-right: 0.25em;color: #696969;}#sk-container-id-2 label.sk-toggleable__label-arrow:hover:before {color: black;}#sk-container-id-2 div.sk-estimator:hover label.sk-toggleable__label-arrow:before {color: black;}#sk-container-id-2 div.sk-toggleable__content {max-height: 0;max-width: 0;overflow: hidden;text-align: left;background-color: #f0f8ff;}#sk-container-id-2 div.sk-toggleable__content pre {margin: 0.2em;color: black;border-radius: 0.25em;background-color: #f0f8ff;}#sk-container-id-2 input.sk-toggleable__control:checked~div.sk-toggleable__content {max-height: 200px;max-width: 100%;overflow: auto;}#sk-container-id-2 input.sk-toggleable__control:checked~label.sk-toggleable__label-arrow:before {content: \"▾\";}#sk-container-id-2 div.sk-estimator input.sk-toggleable__control:checked~label.sk-toggleable__label {background-color: #d4ebff;}#sk-container-id-2 div.sk-label input.sk-toggleable__control:checked~label.sk-toggleable__label {background-color: #d4ebff;}#sk-container-id-2 input.sk-hidden--visually {border: 0;clip: rect(1px 1px 1px 1px);clip: rect(1px, 1px, 1px, 1px);height: 1px;margin: -1px;overflow: hidden;padding: 0;position: absolute;width: 1px;}#sk-container-id-2 div.sk-estimator {font-family: monospace;background-color: #f0f8ff;border: 1px dotted black;border-radius: 0.25em;box-sizing: border-box;margin-bottom: 0.5em;}#sk-container-id-2 div.sk-estimator:hover {background-color: #d4ebff;}#sk-container-id-2 div.sk-parallel-item::after {content: \"\";width: 100%;border-bottom: 1px solid gray;flex-grow: 1;}#sk-container-id-2 div.sk-label:hover label.sk-toggleable__label {background-color: #d4ebff;}#sk-container-id-2 div.sk-serial::before {content: \"\";position: absolute;border-left: 1px solid gray;box-sizing: border-box;top: 0;bottom: 0;left: 50%;z-index: 0;}#sk-container-id-2 div.sk-serial {display: flex;flex-direction: column;align-items: center;background-color: white;padding-right: 0.2em;padding-left: 0.2em;position: relative;}#sk-container-id-2 div.sk-item {position: relative;z-index: 1;}#sk-container-id-2 div.sk-parallel {display: flex;align-items: stretch;justify-content: center;background-color: white;position: relative;}#sk-container-id-2 div.sk-item::before, #sk-container-id-2 div.sk-parallel-item::before {content: \"\";position: absolute;border-left: 1px solid gray;box-sizing: border-box;top: 0;bottom: 0;left: 50%;z-index: -1;}#sk-container-id-2 div.sk-parallel-item {display: flex;flex-direction: column;z-index: 1;position: relative;background-color: white;}#sk-container-id-2 div.sk-parallel-item:first-child::after {align-self: flex-end;width: 50%;}#sk-container-id-2 div.sk-parallel-item:last-child::after {align-self: flex-start;width: 50%;}#sk-container-id-2 div.sk-parallel-item:only-child::after {width: 0;}#sk-container-id-2 div.sk-dashed-wrapped {border: 1px dashed gray;margin: 0 0.4em 0.5em 0.4em;box-sizing: border-box;padding-bottom: 0.4em;background-color: white;}#sk-container-id-2 div.sk-label label {font-family: monospace;font-weight: bold;display: inline-block;line-height: 1.2em;}#sk-container-id-2 div.sk-label-container {text-align: center;}#sk-container-id-2 div.sk-container {/* jupyter's `normalize.less` sets `[hidden] { display: none; }` but bootstrap.min.css set `[hidden] { display: none !important; }` so we also need the `!important` here to be able to override the default hidden behavior on the sphinx rendered scikit-learn.org. See: https://github.com/scikit-learn/scikit-learn/issues/21755 */display: inline-block !important;position: relative;}#sk-container-id-2 div.sk-text-repr-fallback {display: none;}</style><div id=\"sk-container-id-2\" class=\"sk-top-container\"><div class=\"sk-text-repr-fallback\"><pre>PolynomialFeatures()</pre><b>In a Jupyter environment, please rerun this cell to show the HTML representation or trust the notebook. <br />On GitHub, the HTML representation is unable to render, please try loading this page with nbviewer.org.</b></div><div class=\"sk-container\" hidden><div class=\"sk-item\"><div class=\"sk-estimator sk-toggleable\"><input class=\"sk-toggleable__control sk-hidden--visually\" id=\"sk-estimator-id-2\" type=\"checkbox\" checked><label for=\"sk-estimator-id-2\" class=\"sk-toggleable__label sk-toggleable__label-arrow\">PolynomialFeatures</label><div class=\"sk-toggleable__content\"><pre>PolynomialFeatures()</pre></div></div></div></div></div>"
      ],
      "text/plain": [
       "PolynomialFeatures()"
      ]
     },
     "execution_count": 22,
     "metadata": {},
     "output_type": "execute_result"
    }
   ],
   "source": [
    "pf = PolynomialFeatures(degree=2)\n",
    "\n",
    "pf.fit(X_train, y_train)"
   ]
  },
  {
   "cell_type": "code",
   "execution_count": 23,
   "id": "44eb16e6",
   "metadata": {},
   "outputs": [],
   "source": [
    "X_polynomial = pf.transform(X_train)"
   ]
  },
  {
   "cell_type": "code",
   "execution_count": 24,
   "id": "33829c84",
   "metadata": {},
   "outputs": [
    {
     "data": {
      "text/html": [
       "<style>#sk-container-id-3 {color: black;background-color: white;}#sk-container-id-3 pre{padding: 0;}#sk-container-id-3 div.sk-toggleable {background-color: white;}#sk-container-id-3 label.sk-toggleable__label {cursor: pointer;display: block;width: 100%;margin-bottom: 0;padding: 0.3em;box-sizing: border-box;text-align: center;}#sk-container-id-3 label.sk-toggleable__label-arrow:before {content: \"▸\";float: left;margin-right: 0.25em;color: #696969;}#sk-container-id-3 label.sk-toggleable__label-arrow:hover:before {color: black;}#sk-container-id-3 div.sk-estimator:hover label.sk-toggleable__label-arrow:before {color: black;}#sk-container-id-3 div.sk-toggleable__content {max-height: 0;max-width: 0;overflow: hidden;text-align: left;background-color: #f0f8ff;}#sk-container-id-3 div.sk-toggleable__content pre {margin: 0.2em;color: black;border-radius: 0.25em;background-color: #f0f8ff;}#sk-container-id-3 input.sk-toggleable__control:checked~div.sk-toggleable__content {max-height: 200px;max-width: 100%;overflow: auto;}#sk-container-id-3 input.sk-toggleable__control:checked~label.sk-toggleable__label-arrow:before {content: \"▾\";}#sk-container-id-3 div.sk-estimator input.sk-toggleable__control:checked~label.sk-toggleable__label {background-color: #d4ebff;}#sk-container-id-3 div.sk-label input.sk-toggleable__control:checked~label.sk-toggleable__label {background-color: #d4ebff;}#sk-container-id-3 input.sk-hidden--visually {border: 0;clip: rect(1px 1px 1px 1px);clip: rect(1px, 1px, 1px, 1px);height: 1px;margin: -1px;overflow: hidden;padding: 0;position: absolute;width: 1px;}#sk-container-id-3 div.sk-estimator {font-family: monospace;background-color: #f0f8ff;border: 1px dotted black;border-radius: 0.25em;box-sizing: border-box;margin-bottom: 0.5em;}#sk-container-id-3 div.sk-estimator:hover {background-color: #d4ebff;}#sk-container-id-3 div.sk-parallel-item::after {content: \"\";width: 100%;border-bottom: 1px solid gray;flex-grow: 1;}#sk-container-id-3 div.sk-label:hover label.sk-toggleable__label {background-color: #d4ebff;}#sk-container-id-3 div.sk-serial::before {content: \"\";position: absolute;border-left: 1px solid gray;box-sizing: border-box;top: 0;bottom: 0;left: 50%;z-index: 0;}#sk-container-id-3 div.sk-serial {display: flex;flex-direction: column;align-items: center;background-color: white;padding-right: 0.2em;padding-left: 0.2em;position: relative;}#sk-container-id-3 div.sk-item {position: relative;z-index: 1;}#sk-container-id-3 div.sk-parallel {display: flex;align-items: stretch;justify-content: center;background-color: white;position: relative;}#sk-container-id-3 div.sk-item::before, #sk-container-id-3 div.sk-parallel-item::before {content: \"\";position: absolute;border-left: 1px solid gray;box-sizing: border-box;top: 0;bottom: 0;left: 50%;z-index: -1;}#sk-container-id-3 div.sk-parallel-item {display: flex;flex-direction: column;z-index: 1;position: relative;background-color: white;}#sk-container-id-3 div.sk-parallel-item:first-child::after {align-self: flex-end;width: 50%;}#sk-container-id-3 div.sk-parallel-item:last-child::after {align-self: flex-start;width: 50%;}#sk-container-id-3 div.sk-parallel-item:only-child::after {width: 0;}#sk-container-id-3 div.sk-dashed-wrapped {border: 1px dashed gray;margin: 0 0.4em 0.5em 0.4em;box-sizing: border-box;padding-bottom: 0.4em;background-color: white;}#sk-container-id-3 div.sk-label label {font-family: monospace;font-weight: bold;display: inline-block;line-height: 1.2em;}#sk-container-id-3 div.sk-label-container {text-align: center;}#sk-container-id-3 div.sk-container {/* jupyter's `normalize.less` sets `[hidden] { display: none; }` but bootstrap.min.css set `[hidden] { display: none !important; }` so we also need the `!important` here to be able to override the default hidden behavior on the sphinx rendered scikit-learn.org. See: https://github.com/scikit-learn/scikit-learn/issues/21755 */display: inline-block !important;position: relative;}#sk-container-id-3 div.sk-text-repr-fallback {display: none;}</style><div id=\"sk-container-id-3\" class=\"sk-top-container\"><div class=\"sk-text-repr-fallback\"><pre>LinearRegression()</pre><b>In a Jupyter environment, please rerun this cell to show the HTML representation or trust the notebook. <br />On GitHub, the HTML representation is unable to render, please try loading this page with nbviewer.org.</b></div><div class=\"sk-container\" hidden><div class=\"sk-item\"><div class=\"sk-estimator sk-toggleable\"><input class=\"sk-toggleable__control sk-hidden--visually\" id=\"sk-estimator-id-3\" type=\"checkbox\" checked><label for=\"sk-estimator-id-3\" class=\"sk-toggleable__label sk-toggleable__label-arrow\">LinearRegression</label><div class=\"sk-toggleable__content\"><pre>LinearRegression()</pre></div></div></div></div></div>"
      ],
      "text/plain": [
       "LinearRegression()"
      ]
     },
     "execution_count": 24,
     "metadata": {},
     "output_type": "execute_result"
    }
   ],
   "source": [
    "lmtwo = LinearRegression()\n",
    "\n",
    "lmtwo.fit(X_polynomial, y_train)"
   ]
  },
  {
   "cell_type": "code",
   "execution_count": 25,
   "id": "a5aad31a",
   "metadata": {},
   "outputs": [
    {
     "data": {
      "text/html": [
       "<div>\n",
       "<style scoped>\n",
       "    .dataframe tbody tr th:only-of-type {\n",
       "        vertical-align: middle;\n",
       "    }\n",
       "\n",
       "    .dataframe tbody tr th {\n",
       "        vertical-align: top;\n",
       "    }\n",
       "\n",
       "    .dataframe thead th {\n",
       "        text-align: right;\n",
       "    }\n",
       "</style>\n",
       "<table border=\"1\" class=\"dataframe\">\n",
       "  <thead>\n",
       "    <tr style=\"text-align: right;\">\n",
       "      <th></th>\n",
       "      <th>actual</th>\n",
       "      <th>baseline</th>\n",
       "      <th>lm_preds</th>\n",
       "      <th>lasso_preds</th>\n",
       "      <th>poly_preds</th>\n",
       "    </tr>\n",
       "  </thead>\n",
       "  <tbody>\n",
       "    <tr>\n",
       "      <th>1330834</th>\n",
       "      <td>17957.0</td>\n",
       "      <td>22393.753906</td>\n",
       "      <td>17514.525391</td>\n",
       "      <td>17944.302734</td>\n",
       "      <td>19498.75</td>\n",
       "    </tr>\n",
       "    <tr>\n",
       "      <th>88155</th>\n",
       "      <td>30997.0</td>\n",
       "      <td>22393.753906</td>\n",
       "      <td>29052.048828</td>\n",
       "      <td>29308.757812</td>\n",
       "      <td>31704.75</td>\n",
       "    </tr>\n",
       "    <tr>\n",
       "      <th>1904413</th>\n",
       "      <td>9995.0</td>\n",
       "      <td>22393.753906</td>\n",
       "      <td>6444.899414</td>\n",
       "      <td>5907.584961</td>\n",
       "      <td>7831.75</td>\n",
       "    </tr>\n",
       "    <tr>\n",
       "      <th>123408</th>\n",
       "      <td>37995.0</td>\n",
       "      <td>22393.753906</td>\n",
       "      <td>29679.759766</td>\n",
       "      <td>28320.308594</td>\n",
       "      <td>28081.75</td>\n",
       "    </tr>\n",
       "    <tr>\n",
       "      <th>1211562</th>\n",
       "      <td>17800.0</td>\n",
       "      <td>22393.753906</td>\n",
       "      <td>13934.644531</td>\n",
       "      <td>13628.726562</td>\n",
       "      <td>14546.25</td>\n",
       "    </tr>\n",
       "  </tbody>\n",
       "</table>\n",
       "</div>"
      ],
      "text/plain": [
       "          actual      baseline      lm_preds   lasso_preds  poly_preds\n",
       "1330834  17957.0  22393.753906  17514.525391  17944.302734    19498.75\n",
       "88155    30997.0  22393.753906  29052.048828  29308.757812    31704.75\n",
       "1904413   9995.0  22393.753906   6444.899414   5907.584961     7831.75\n",
       "123408   37995.0  22393.753906  29679.759766  28320.308594    28081.75\n",
       "1211562  17800.0  22393.753906  13934.644531  13628.726562    14546.25"
      ]
     },
     "execution_count": 25,
     "metadata": {},
     "output_type": "execute_result"
    }
   ],
   "source": [
    "preds['poly_preds'] = lmtwo.predict(X_polynomial)\n",
    "preds.head()"
   ]
  },
  {
   "cell_type": "code",
   "execution_count": 26,
   "id": "1b684984",
   "metadata": {},
   "outputs": [
    {
     "data": {
      "text/plain": [
       "4336.340161933794"
      ]
     },
     "execution_count": 26,
     "metadata": {},
     "output_type": "execute_result"
    }
   ],
   "source": [
    "poly_rmse = rmse(preds, 'poly_preds')\n",
    "poly_rmse"
   ]
  },
  {
   "cell_type": "code",
   "execution_count": 27,
   "id": "ead9bda9",
   "metadata": {},
   "outputs": [
    {
     "data": {
      "text/html": [
       "<style>#sk-container-id-4 {color: black;background-color: white;}#sk-container-id-4 pre{padding: 0;}#sk-container-id-4 div.sk-toggleable {background-color: white;}#sk-container-id-4 label.sk-toggleable__label {cursor: pointer;display: block;width: 100%;margin-bottom: 0;padding: 0.3em;box-sizing: border-box;text-align: center;}#sk-container-id-4 label.sk-toggleable__label-arrow:before {content: \"▸\";float: left;margin-right: 0.25em;color: #696969;}#sk-container-id-4 label.sk-toggleable__label-arrow:hover:before {color: black;}#sk-container-id-4 div.sk-estimator:hover label.sk-toggleable__label-arrow:before {color: black;}#sk-container-id-4 div.sk-toggleable__content {max-height: 0;max-width: 0;overflow: hidden;text-align: left;background-color: #f0f8ff;}#sk-container-id-4 div.sk-toggleable__content pre {margin: 0.2em;color: black;border-radius: 0.25em;background-color: #f0f8ff;}#sk-container-id-4 input.sk-toggleable__control:checked~div.sk-toggleable__content {max-height: 200px;max-width: 100%;overflow: auto;}#sk-container-id-4 input.sk-toggleable__control:checked~label.sk-toggleable__label-arrow:before {content: \"▾\";}#sk-container-id-4 div.sk-estimator input.sk-toggleable__control:checked~label.sk-toggleable__label {background-color: #d4ebff;}#sk-container-id-4 div.sk-label input.sk-toggleable__control:checked~label.sk-toggleable__label {background-color: #d4ebff;}#sk-container-id-4 input.sk-hidden--visually {border: 0;clip: rect(1px 1px 1px 1px);clip: rect(1px, 1px, 1px, 1px);height: 1px;margin: -1px;overflow: hidden;padding: 0;position: absolute;width: 1px;}#sk-container-id-4 div.sk-estimator {font-family: monospace;background-color: #f0f8ff;border: 1px dotted black;border-radius: 0.25em;box-sizing: border-box;margin-bottom: 0.5em;}#sk-container-id-4 div.sk-estimator:hover {background-color: #d4ebff;}#sk-container-id-4 div.sk-parallel-item::after {content: \"\";width: 100%;border-bottom: 1px solid gray;flex-grow: 1;}#sk-container-id-4 div.sk-label:hover label.sk-toggleable__label {background-color: #d4ebff;}#sk-container-id-4 div.sk-serial::before {content: \"\";position: absolute;border-left: 1px solid gray;box-sizing: border-box;top: 0;bottom: 0;left: 50%;z-index: 0;}#sk-container-id-4 div.sk-serial {display: flex;flex-direction: column;align-items: center;background-color: white;padding-right: 0.2em;padding-left: 0.2em;position: relative;}#sk-container-id-4 div.sk-item {position: relative;z-index: 1;}#sk-container-id-4 div.sk-parallel {display: flex;align-items: stretch;justify-content: center;background-color: white;position: relative;}#sk-container-id-4 div.sk-item::before, #sk-container-id-4 div.sk-parallel-item::before {content: \"\";position: absolute;border-left: 1px solid gray;box-sizing: border-box;top: 0;bottom: 0;left: 50%;z-index: -1;}#sk-container-id-4 div.sk-parallel-item {display: flex;flex-direction: column;z-index: 1;position: relative;background-color: white;}#sk-container-id-4 div.sk-parallel-item:first-child::after {align-self: flex-end;width: 50%;}#sk-container-id-4 div.sk-parallel-item:last-child::after {align-self: flex-start;width: 50%;}#sk-container-id-4 div.sk-parallel-item:only-child::after {width: 0;}#sk-container-id-4 div.sk-dashed-wrapped {border: 1px dashed gray;margin: 0 0.4em 0.5em 0.4em;box-sizing: border-box;padding-bottom: 0.4em;background-color: white;}#sk-container-id-4 div.sk-label label {font-family: monospace;font-weight: bold;display: inline-block;line-height: 1.2em;}#sk-container-id-4 div.sk-label-container {text-align: center;}#sk-container-id-4 div.sk-container {/* jupyter's `normalize.less` sets `[hidden] { display: none; }` but bootstrap.min.css set `[hidden] { display: none !important; }` so we also need the `!important` here to be able to override the default hidden behavior on the sphinx rendered scikit-learn.org. See: https://github.com/scikit-learn/scikit-learn/issues/21755 */display: inline-block !important;position: relative;}#sk-container-id-4 div.sk-text-repr-fallback {display: none;}</style><div id=\"sk-container-id-4\" class=\"sk-top-container\"><div class=\"sk-text-repr-fallback\"><pre>LassoLars(alpha=0)</pre><b>In a Jupyter environment, please rerun this cell to show the HTML representation or trust the notebook. <br />On GitHub, the HTML representation is unable to render, please try loading this page with nbviewer.org.</b></div><div class=\"sk-container\" hidden><div class=\"sk-item\"><div class=\"sk-estimator sk-toggleable\"><input class=\"sk-toggleable__control sk-hidden--visually\" id=\"sk-estimator-id-4\" type=\"checkbox\" checked><label for=\"sk-estimator-id-4\" class=\"sk-toggleable__label sk-toggleable__label-arrow\">LassoLars</label><div class=\"sk-toggleable__content\"><pre>LassoLars(alpha=0)</pre></div></div></div></div></div>"
      ],
      "text/plain": [
       "LassoLars(alpha=0)"
      ]
     },
     "execution_count": 27,
     "metadata": {},
     "output_type": "execute_result"
    }
   ],
   "source": [
    "lassotwo = LassoLars(alpha=0)\n",
    "\n",
    "lassotwo.fit(X_polynomial, y_train)"
   ]
  },
  {
   "cell_type": "code",
   "execution_count": 28,
   "id": "507a4ff8",
   "metadata": {},
   "outputs": [
    {
     "name": "stdout",
     "output_type": "stream",
     "text": [
      "0\n",
      "4505.727244296973\n",
      "0.05\n",
      "4954.487057203803\n",
      "0.1\n",
      "5154.39094365183\n",
      "0.15000000000000002\n",
      "5233.805881000938\n",
      "0.2\n",
      "5280.067991986467\n",
      "0.25\n",
      "5322.318479760489\n",
      "0.3\n",
      "5359.582259840779\n",
      "0.35\n",
      "5402.469065159004\n",
      "0.39999999999999997\n",
      "5451.160060023921\n",
      "0.44999999999999996\n",
      "5504.388431061166\n",
      "0.49999999999999994\n",
      "5556.118429263365\n",
      "0.5499999999999999\n",
      "5611.377371020417\n",
      "0.6\n",
      "5663.772417744201\n",
      "0.65\n",
      "5714.148580497361\n",
      "0.7000000000000001\n",
      "5758.334828750409\n",
      "0.7500000000000001\n",
      "5790.348348761066\n",
      "0.8000000000000002\n",
      "5818.237877570838\n",
      "0.8500000000000002\n",
      "5844.492450161947\n",
      "0.9000000000000002\n",
      "5872.211508452331\n",
      "0.9500000000000003\n",
      "5901.370688238454\n"
     ]
    }
   ],
   "source": [
    "i = 0\n",
    "while(i < 1):\n",
    "    \n",
    "    lassotwo = LassoLars(alpha=i)\n",
    "\n",
    "    lassotwo.fit(X_polynomial, y_train)\n",
    "    \n",
    "    preds['lasso_poly'] = lassotwo.predict(X_polynomial)\n",
    "        \n",
    "    print(i)\n",
    "    print(rmse(preds, 'lasso_poly'))\n",
    "    \n",
    "    i += .05"
   ]
  },
  {
   "cell_type": "code",
   "execution_count": 30,
   "id": "244f1d8a",
   "metadata": {},
   "outputs": [
    {
     "data": {
      "text/plain": [
       "5932.236003397033"
      ]
     },
     "execution_count": 30,
     "metadata": {},
     "output_type": "execute_result"
    }
   ],
   "source": [
    "lassopoly_rmse = rmse(preds, 'lasso_poly')\n",
    "lassopoly_rmse"
   ]
  },
  {
   "cell_type": "code",
   "execution_count": 18,
   "id": "148f9087",
   "metadata": {},
   "outputs": [],
   "source": [
    "parameters = {'learning_rate': [.03, .07, .1, .15, .2],\n",
    "              'max_depth': [3, 4, 5, 6, 7],\n",
    "              'min_child_weight': [1, 5, 15, 200],\n",
    "              'subsample': [.65, 0.7, .8, .85],\n",
    "              'colsample_bytree': [0.7, .8, .85],\n",
    "              'n_estimators': [250, 500],\n",
    "              'gamma':[0, 1, 10]}"
   ]
  },
  {
   "cell_type": "code",
   "execution_count": 19,
   "id": "ccd35e1a",
   "metadata": {},
   "outputs": [],
   "source": [
    "xgb = xgboost.XGBRegressor()"
   ]
  },
  {
   "cell_type": "code",
   "execution_count": 20,
   "id": "b458edf8",
   "metadata": {},
   "outputs": [],
   "source": [
    "xgb_grid = GridSearchCV(xgb,\n",
    "                        parameters,\n",
    "                        cv = 4,\n",
    "                        n_jobs = -1,\n",
    "                        verbose=True,\n",
    "                        scoring='neg_root_mean_squared_error')"
   ]
  },
  {
   "cell_type": "code",
   "execution_count": null,
   "id": "b641627d",
   "metadata": {},
   "outputs": [
    {
     "name": "stdout",
     "output_type": "stream",
     "text": [
      "Fitting 4 folds for each of 7200 candidates, totalling 28800 fits\n"
     ]
    }
   ],
   "source": [
    "xgb_grid.fit(X_train,\n",
    "             y_train)\n",
    "\n",
    "print(xgb_grid.best_params_)"
   ]
  },
  {
   "cell_type": "code",
   "execution_count": 100,
   "id": "fe259ae6",
   "metadata": {},
   "outputs": [],
   "source": [
    "xgb = XGBRegressor(objective='reg:squarederror',n_estimators=20, max_depth=4, \n",
    "                   subsample=0.5, colsample_bytree=0.7, seed=42)"
   ]
  },
  {
   "cell_type": "code",
   "execution_count": null,
   "id": "85b9bb58",
   "metadata": {},
   "outputs": [],
   "source": []
  },
  {
   "cell_type": "code",
   "execution_count": 101,
   "id": "bc09733d",
   "metadata": {},
   "outputs": [
    {
     "data": {
      "text/html": [
       "<style>#sk-container-id-15 {color: black;background-color: white;}#sk-container-id-15 pre{padding: 0;}#sk-container-id-15 div.sk-toggleable {background-color: white;}#sk-container-id-15 label.sk-toggleable__label {cursor: pointer;display: block;width: 100%;margin-bottom: 0;padding: 0.3em;box-sizing: border-box;text-align: center;}#sk-container-id-15 label.sk-toggleable__label-arrow:before {content: \"▸\";float: left;margin-right: 0.25em;color: #696969;}#sk-container-id-15 label.sk-toggleable__label-arrow:hover:before {color: black;}#sk-container-id-15 div.sk-estimator:hover label.sk-toggleable__label-arrow:before {color: black;}#sk-container-id-15 div.sk-toggleable__content {max-height: 0;max-width: 0;overflow: hidden;text-align: left;background-color: #f0f8ff;}#sk-container-id-15 div.sk-toggleable__content pre {margin: 0.2em;color: black;border-radius: 0.25em;background-color: #f0f8ff;}#sk-container-id-15 input.sk-toggleable__control:checked~div.sk-toggleable__content {max-height: 200px;max-width: 100%;overflow: auto;}#sk-container-id-15 input.sk-toggleable__control:checked~label.sk-toggleable__label-arrow:before {content: \"▾\";}#sk-container-id-15 div.sk-estimator input.sk-toggleable__control:checked~label.sk-toggleable__label {background-color: #d4ebff;}#sk-container-id-15 div.sk-label input.sk-toggleable__control:checked~label.sk-toggleable__label {background-color: #d4ebff;}#sk-container-id-15 input.sk-hidden--visually {border: 0;clip: rect(1px 1px 1px 1px);clip: rect(1px, 1px, 1px, 1px);height: 1px;margin: -1px;overflow: hidden;padding: 0;position: absolute;width: 1px;}#sk-container-id-15 div.sk-estimator {font-family: monospace;background-color: #f0f8ff;border: 1px dotted black;border-radius: 0.25em;box-sizing: border-box;margin-bottom: 0.5em;}#sk-container-id-15 div.sk-estimator:hover {background-color: #d4ebff;}#sk-container-id-15 div.sk-parallel-item::after {content: \"\";width: 100%;border-bottom: 1px solid gray;flex-grow: 1;}#sk-container-id-15 div.sk-label:hover label.sk-toggleable__label {background-color: #d4ebff;}#sk-container-id-15 div.sk-serial::before {content: \"\";position: absolute;border-left: 1px solid gray;box-sizing: border-box;top: 0;bottom: 0;left: 50%;z-index: 0;}#sk-container-id-15 div.sk-serial {display: flex;flex-direction: column;align-items: center;background-color: white;padding-right: 0.2em;padding-left: 0.2em;position: relative;}#sk-container-id-15 div.sk-item {position: relative;z-index: 1;}#sk-container-id-15 div.sk-parallel {display: flex;align-items: stretch;justify-content: center;background-color: white;position: relative;}#sk-container-id-15 div.sk-item::before, #sk-container-id-15 div.sk-parallel-item::before {content: \"\";position: absolute;border-left: 1px solid gray;box-sizing: border-box;top: 0;bottom: 0;left: 50%;z-index: -1;}#sk-container-id-15 div.sk-parallel-item {display: flex;flex-direction: column;z-index: 1;position: relative;background-color: white;}#sk-container-id-15 div.sk-parallel-item:first-child::after {align-self: flex-end;width: 50%;}#sk-container-id-15 div.sk-parallel-item:last-child::after {align-self: flex-start;width: 50%;}#sk-container-id-15 div.sk-parallel-item:only-child::after {width: 0;}#sk-container-id-15 div.sk-dashed-wrapped {border: 1px dashed gray;margin: 0 0.4em 0.5em 0.4em;box-sizing: border-box;padding-bottom: 0.4em;background-color: white;}#sk-container-id-15 div.sk-label label {font-family: monospace;font-weight: bold;display: inline-block;line-height: 1.2em;}#sk-container-id-15 div.sk-label-container {text-align: center;}#sk-container-id-15 div.sk-container {/* jupyter's `normalize.less` sets `[hidden] { display: none; }` but bootstrap.min.css set `[hidden] { display: none !important; }` so we also need the `!important` here to be able to override the default hidden behavior on the sphinx rendered scikit-learn.org. See: https://github.com/scikit-learn/scikit-learn/issues/21755 */display: inline-block !important;position: relative;}#sk-container-id-15 div.sk-text-repr-fallback {display: none;}</style><div id=\"sk-container-id-15\" class=\"sk-top-container\"><div class=\"sk-text-repr-fallback\"><pre>XGBRegressor(base_score=None, booster=None, callbacks=None,\n",
       "             colsample_bylevel=None, colsample_bynode=None,\n",
       "             colsample_bytree=0.7, early_stopping_rounds=None,\n",
       "             enable_categorical=False, eval_metric=None, feature_types=None,\n",
       "             gamma=None, gpu_id=None, grow_policy=None, importance_type=None,\n",
       "             interaction_constraints=None, learning_rate=None, max_bin=None,\n",
       "             max_cat_threshold=None, max_cat_to_onehot=None,\n",
       "             max_delta_step=None, max_depth=4, max_leaves=None,\n",
       "             min_child_weight=None, missing=nan, monotone_constraints=None,\n",
       "             n_estimators=20, n_jobs=None, num_parallel_tree=None,\n",
       "             predictor=None, random_state=None, ...)</pre><b>In a Jupyter environment, please rerun this cell to show the HTML representation or trust the notebook. <br />On GitHub, the HTML representation is unable to render, please try loading this page with nbviewer.org.</b></div><div class=\"sk-container\" hidden><div class=\"sk-item\"><div class=\"sk-estimator sk-toggleable\"><input class=\"sk-toggleable__control sk-hidden--visually\" id=\"sk-estimator-id-15\" type=\"checkbox\" checked><label for=\"sk-estimator-id-15\" class=\"sk-toggleable__label sk-toggleable__label-arrow\">XGBRegressor</label><div class=\"sk-toggleable__content\"><pre>XGBRegressor(base_score=None, booster=None, callbacks=None,\n",
       "             colsample_bylevel=None, colsample_bynode=None,\n",
       "             colsample_bytree=0.7, early_stopping_rounds=None,\n",
       "             enable_categorical=False, eval_metric=None, feature_types=None,\n",
       "             gamma=None, gpu_id=None, grow_policy=None, importance_type=None,\n",
       "             interaction_constraints=None, learning_rate=None, max_bin=None,\n",
       "             max_cat_threshold=None, max_cat_to_onehot=None,\n",
       "             max_delta_step=None, max_depth=4, max_leaves=None,\n",
       "             min_child_weight=None, missing=nan, monotone_constraints=None,\n",
       "             n_estimators=20, n_jobs=None, num_parallel_tree=None,\n",
       "             predictor=None, random_state=None, ...)</pre></div></div></div></div></div>"
      ],
      "text/plain": [
       "XGBRegressor(base_score=None, booster=None, callbacks=None,\n",
       "             colsample_bylevel=None, colsample_bynode=None,\n",
       "             colsample_bytree=0.7, early_stopping_rounds=None,\n",
       "             enable_categorical=False, eval_metric=None, feature_types=None,\n",
       "             gamma=None, gpu_id=None, grow_policy=None, importance_type=None,\n",
       "             interaction_constraints=None, learning_rate=None, max_bin=None,\n",
       "             max_cat_threshold=None, max_cat_to_onehot=None,\n",
       "             max_delta_step=None, max_depth=4, max_leaves=None,\n",
       "             min_child_weight=None, missing=nan, monotone_constraints=None,\n",
       "             n_estimators=20, n_jobs=None, num_parallel_tree=None,\n",
       "             predictor=None, random_state=None, ...)"
      ]
     },
     "execution_count": 101,
     "metadata": {},
     "output_type": "execute_result"
    }
   ],
   "source": [
    "xgb.fit(X_train, y_train)"
   ]
  },
  {
   "cell_type": "code",
   "execution_count": 102,
   "id": "33f4a479",
   "metadata": {},
   "outputs": [],
   "source": [
    "preds['xgb'] = xgb.predict(X_train)"
   ]
  },
  {
   "cell_type": "code",
   "execution_count": 103,
   "id": "6d7d9871",
   "metadata": {},
   "outputs": [],
   "source": [
    "xgb_rmse = rmse(preds, 'xgb')"
   ]
  },
  {
   "cell_type": "code",
   "execution_count": null,
   "id": "0b96d54e",
   "metadata": {},
   "outputs": [],
   "source": []
  },
  {
   "cell_type": "code",
   "execution_count": 104,
   "id": "b00ca039",
   "metadata": {},
   "outputs": [],
   "source": [
    "rmse_df = pd.DataFrame({'model':['baseline','linear', 'lasso','linear_poly', 'lasso_poly','tweedie_norm', 'xgb'],\n",
    "              'rmse':[baseline_rmse, lm_rmse, lasso_rmse, poly_rmse, lassopoly_rmse, tweedie_rmse, xgb_rmse]})"
   ]
  },
  {
   "cell_type": "code",
   "execution_count": 105,
   "id": "3e7d1442",
   "metadata": {},
   "outputs": [
    {
     "data": {
      "text/html": [
       "<div>\n",
       "<style scoped>\n",
       "    .dataframe tbody tr th:only-of-type {\n",
       "        vertical-align: middle;\n",
       "    }\n",
       "\n",
       "    .dataframe tbody tr th {\n",
       "        vertical-align: top;\n",
       "    }\n",
       "\n",
       "    .dataframe thead th {\n",
       "        text-align: right;\n",
       "    }\n",
       "</style>\n",
       "<table border=\"1\" class=\"dataframe\">\n",
       "  <thead>\n",
       "    <tr style=\"text-align: right;\">\n",
       "      <th></th>\n",
       "      <th>model</th>\n",
       "      <th>rmse</th>\n",
       "    </tr>\n",
       "  </thead>\n",
       "  <tbody>\n",
       "    <tr>\n",
       "      <th>6</th>\n",
       "      <td>xgb</td>\n",
       "      <td>4066.665587</td>\n",
       "    </tr>\n",
       "    <tr>\n",
       "      <th>3</th>\n",
       "      <td>linear_poly</td>\n",
       "      <td>4359.551353</td>\n",
       "    </tr>\n",
       "    <tr>\n",
       "      <th>1</th>\n",
       "      <td>linear</td>\n",
       "      <td>5645.265096</td>\n",
       "    </tr>\n",
       "    <tr>\n",
       "      <th>2</th>\n",
       "      <td>lasso</td>\n",
       "      <td>5682.859667</td>\n",
       "    </tr>\n",
       "    <tr>\n",
       "      <th>4</th>\n",
       "      <td>lasso_poly</td>\n",
       "      <td>5932.236003</td>\n",
       "    </tr>\n",
       "    <tr>\n",
       "      <th>5</th>\n",
       "      <td>tweedie_norm</td>\n",
       "      <td>10031.976387</td>\n",
       "    </tr>\n",
       "    <tr>\n",
       "      <th>0</th>\n",
       "      <td>baseline</td>\n",
       "      <td>10904.487775</td>\n",
       "    </tr>\n",
       "  </tbody>\n",
       "</table>\n",
       "</div>"
      ],
      "text/plain": [
       "          model          rmse\n",
       "6           xgb   4066.665587\n",
       "3   linear_poly   4359.551353\n",
       "1        linear   5645.265096\n",
       "2         lasso   5682.859667\n",
       "4    lasso_poly   5932.236003\n",
       "5  tweedie_norm  10031.976387\n",
       "0      baseline  10904.487775"
      ]
     },
     "execution_count": 105,
     "metadata": {},
     "output_type": "execute_result"
    }
   ],
   "source": [
    "rmse_df.sort_values('rmse')"
   ]
  },
  {
   "cell_type": "code",
   "execution_count": 106,
   "id": "bd6a54a4",
   "metadata": {},
   "outputs": [
    {
     "data": {
      "text/plain": [
       "[Text(0, 6, '4066.67'),\n",
       " Text(0, 6, '4359.55'),\n",
       " Text(0, 6, '5645.27'),\n",
       " Text(0, 6, '5682.86'),\n",
       " Text(0, 6, '5932.24'),\n",
       " Text(0, 6, '10032'),\n",
       " Text(0, 6, '10904.5')]"
      ]
     },
     "execution_count": 106,
     "metadata": {},
     "output_type": "execute_result"
    },
    {
     "data": {
      "image/png": "[encoded data removed]",
      "text/plain": [
       "<Figure size 1000x700 with 1 Axes>"
      ]
     },
     "metadata": {},
     "output_type": "display_data"
    }
   ],
   "source": [
    "fig, ax = plt.subplots(figsize=(10,7))\n",
    "bplot = sns.barplot(x='model',y='rmse', data=rmse_df.sort_values('rmse'))\n",
    "plt.ylabel('RMSE')\n",
    "plt.xlabel('Model')\n",
    "plt.title('RMSE for Each Tested Model')\n",
    "plt.ylim(0, 12000)\n",
    "ax.bar_label(bplot.containers[0], padding= 6)"
   ]
  },
  {
   "cell_type": "code",
   "execution_count": 39,
   "id": "ec6eca15",
   "metadata": {},
   "outputs": [
    {
     "data": {
      "text/html": [
       "<style>#sk-container-id-7 {color: black;background-color: white;}#sk-container-id-7 pre{padding: 0;}#sk-container-id-7 div.sk-toggleable {background-color: white;}#sk-container-id-7 label.sk-toggleable__label {cursor: pointer;display: block;width: 100%;margin-bottom: 0;padding: 0.3em;box-sizing: border-box;text-align: center;}#sk-container-id-7 label.sk-toggleable__label-arrow:before {content: \"▸\";float: left;margin-right: 0.25em;color: #696969;}#sk-container-id-7 label.sk-toggleable__label-arrow:hover:before {color: black;}#sk-container-id-7 div.sk-estimator:hover label.sk-toggleable__label-arrow:before {color: black;}#sk-container-id-7 div.sk-toggleable__content {max-height: 0;max-width: 0;overflow: hidden;text-align: left;background-color: #f0f8ff;}#sk-container-id-7 div.sk-toggleable__content pre {margin: 0.2em;color: black;border-radius: 0.25em;background-color: #f0f8ff;}#sk-container-id-7 input.sk-toggleable__control:checked~div.sk-toggleable__content {max-height: 200px;max-width: 100%;overflow: auto;}#sk-container-id-7 input.sk-toggleable__control:checked~label.sk-toggleable__label-arrow:before {content: \"▾\";}#sk-container-id-7 div.sk-estimator input.sk-toggleable__control:checked~label.sk-toggleable__label {background-color: #d4ebff;}#sk-container-id-7 div.sk-label input.sk-toggleable__control:checked~label.sk-toggleable__label {background-color: #d4ebff;}#sk-container-id-7 input.sk-hidden--visually {border: 0;clip: rect(1px 1px 1px 1px);clip: rect(1px, 1px, 1px, 1px);height: 1px;margin: -1px;overflow: hidden;padding: 0;position: absolute;width: 1px;}#sk-container-id-7 div.sk-estimator {font-family: monospace;background-color: #f0f8ff;border: 1px dotted black;border-radius: 0.25em;box-sizing: border-box;margin-bottom: 0.5em;}#sk-container-id-7 div.sk-estimator:hover {background-color: #d4ebff;}#sk-container-id-7 div.sk-parallel-item::after {content: \"\";width: 100%;border-bottom: 1px solid gray;flex-grow: 1;}#sk-container-id-7 div.sk-label:hover label.sk-toggleable__label {background-color: #d4ebff;}#sk-container-id-7 div.sk-serial::before {content: \"\";position: absolute;border-left: 1px solid gray;box-sizing: border-box;top: 0;bottom: 0;left: 50%;z-index: 0;}#sk-container-id-7 div.sk-serial {display: flex;flex-direction: column;align-items: center;background-color: white;padding-right: 0.2em;padding-left: 0.2em;position: relative;}#sk-container-id-7 div.sk-item {position: relative;z-index: 1;}#sk-container-id-7 div.sk-parallel {display: flex;align-items: stretch;justify-content: center;background-color: white;position: relative;}#sk-container-id-7 div.sk-item::before, #sk-container-id-7 div.sk-parallel-item::before {content: \"\";position: absolute;border-left: 1px solid gray;box-sizing: border-box;top: 0;bottom: 0;left: 50%;z-index: -1;}#sk-container-id-7 div.sk-parallel-item {display: flex;flex-direction: column;z-index: 1;position: relative;background-color: white;}#sk-container-id-7 div.sk-parallel-item:first-child::after {align-self: flex-end;width: 50%;}#sk-container-id-7 div.sk-parallel-item:last-child::after {align-self: flex-start;width: 50%;}#sk-container-id-7 div.sk-parallel-item:only-child::after {width: 0;}#sk-container-id-7 div.sk-dashed-wrapped {border: 1px dashed gray;margin: 0 0.4em 0.5em 0.4em;box-sizing: border-box;padding-bottom: 0.4em;background-color: white;}#sk-container-id-7 div.sk-label label {font-family: monospace;font-weight: bold;display: inline-block;line-height: 1.2em;}#sk-container-id-7 div.sk-label-container {text-align: center;}#sk-container-id-7 div.sk-container {/* jupyter's `normalize.less` sets `[hidden] { display: none; }` but bootstrap.min.css set `[hidden] { display: none !important; }` so we also need the `!important` here to be able to override the default hidden behavior on the sphinx rendered scikit-learn.org. See: https://github.com/scikit-learn/scikit-learn/issues/21755 */display: inline-block !important;position: relative;}#sk-container-id-7 div.sk-text-repr-fallback {display: none;}</style><div id=\"sk-container-id-7\" class=\"sk-top-container\"><div class=\"sk-text-repr-fallback\"><pre>PolynomialFeatures()</pre><b>In a Jupyter environment, please rerun this cell to show the HTML representation or trust the notebook. <br />On GitHub, the HTML representation is unable to render, please try loading this page with nbviewer.org.</b></div><div class=\"sk-container\" hidden><div class=\"sk-item\"><div class=\"sk-estimator sk-toggleable\"><input class=\"sk-toggleable__control sk-hidden--visually\" id=\"sk-estimator-id-7\" type=\"checkbox\" checked><label for=\"sk-estimator-id-7\" class=\"sk-toggleable__label sk-toggleable__label-arrow\">PolynomialFeatures</label><div class=\"sk-toggleable__content\"><pre>PolynomialFeatures()</pre></div></div></div></div></div>"
      ],
      "text/plain": [
       "PolynomialFeatures()"
      ]
     },
     "execution_count": 39,
     "metadata": {},
     "output_type": "execute_result"
    }
   ],
   "source": [
    "pf = PolynomialFeatures(degree=2)\n",
    "\n",
    "pf.fit(X_train, y_train)"
   ]
  },
  {
   "cell_type": "code",
   "execution_count": 40,
   "id": "8bd8a299",
   "metadata": {},
   "outputs": [],
   "source": [
    "X_val_polynomial = pf.transform(X_val)"
   ]
  },
  {
   "cell_type": "code",
   "execution_count": 41,
   "id": "940a94a9",
   "metadata": {},
   "outputs": [
    {
     "data": {
      "text/html": [
       "<style>#sk-container-id-8 {color: black;background-color: white;}#sk-container-id-8 pre{padding: 0;}#sk-container-id-8 div.sk-toggleable {background-color: white;}#sk-container-id-8 label.sk-toggleable__label {cursor: pointer;display: block;width: 100%;margin-bottom: 0;padding: 0.3em;box-sizing: border-box;text-align: center;}#sk-container-id-8 label.sk-toggleable__label-arrow:before {content: \"▸\";float: left;margin-right: 0.25em;color: #696969;}#sk-container-id-8 label.sk-toggleable__label-arrow:hover:before {color: black;}#sk-container-id-8 div.sk-estimator:hover label.sk-toggleable__label-arrow:before {color: black;}#sk-container-id-8 div.sk-toggleable__content {max-height: 0;max-width: 0;overflow: hidden;text-align: left;background-color: #f0f8ff;}#sk-container-id-8 div.sk-toggleable__content pre {margin: 0.2em;color: black;border-radius: 0.25em;background-color: #f0f8ff;}#sk-container-id-8 input.sk-toggleable__control:checked~div.sk-toggleable__content {max-height: 200px;max-width: 100%;overflow: auto;}#sk-container-id-8 input.sk-toggleable__control:checked~label.sk-toggleable__label-arrow:before {content: \"▾\";}#sk-container-id-8 div.sk-estimator input.sk-toggleable__control:checked~label.sk-toggleable__label {background-color: #d4ebff;}#sk-container-id-8 div.sk-label input.sk-toggleable__control:checked~label.sk-toggleable__label {background-color: #d4ebff;}#sk-container-id-8 input.sk-hidden--visually {border: 0;clip: rect(1px 1px 1px 1px);clip: rect(1px, 1px, 1px, 1px);height: 1px;margin: -1px;overflow: hidden;padding: 0;position: absolute;width: 1px;}#sk-container-id-8 div.sk-estimator {font-family: monospace;background-color: #f0f8ff;border: 1px dotted black;border-radius: 0.25em;box-sizing: border-box;margin-bottom: 0.5em;}#sk-container-id-8 div.sk-estimator:hover {background-color: #d4ebff;}#sk-container-id-8 div.sk-parallel-item::after {content: \"\";width: 100%;border-bottom: 1px solid gray;flex-grow: 1;}#sk-container-id-8 div.sk-label:hover label.sk-toggleable__label {background-color: #d4ebff;}#sk-container-id-8 div.sk-serial::before {content: \"\";position: absolute;border-left: 1px solid gray;box-sizing: border-box;top: 0;bottom: 0;left: 50%;z-index: 0;}#sk-container-id-8 div.sk-serial {display: flex;flex-direction: column;align-items: center;background-color: white;padding-right: 0.2em;padding-left: 0.2em;position: relative;}#sk-container-id-8 div.sk-item {position: relative;z-index: 1;}#sk-container-id-8 div.sk-parallel {display: flex;align-items: stretch;justify-content: center;background-color: white;position: relative;}#sk-container-id-8 div.sk-item::before, #sk-container-id-8 div.sk-parallel-item::before {content: \"\";position: absolute;border-left: 1px solid gray;box-sizing: border-box;top: 0;bottom: 0;left: 50%;z-index: -1;}#sk-container-id-8 div.sk-parallel-item {display: flex;flex-direction: column;z-index: 1;position: relative;background-color: white;}#sk-container-id-8 div.sk-parallel-item:first-child::after {align-self: flex-end;width: 50%;}#sk-container-id-8 div.sk-parallel-item:last-child::after {align-self: flex-start;width: 50%;}#sk-container-id-8 div.sk-parallel-item:only-child::after {width: 0;}#sk-container-id-8 div.sk-dashed-wrapped {border: 1px dashed gray;margin: 0 0.4em 0.5em 0.4em;box-sizing: border-box;padding-bottom: 0.4em;background-color: white;}#sk-container-id-8 div.sk-label label {font-family: monospace;font-weight: bold;display: inline-block;line-height: 1.2em;}#sk-container-id-8 div.sk-label-container {text-align: center;}#sk-container-id-8 div.sk-container {/* jupyter's `normalize.less` sets `[hidden] { display: none; }` but bootstrap.min.css set `[hidden] { display: none !important; }` so we also need the `!important` here to be able to override the default hidden behavior on the sphinx rendered scikit-learn.org. See: https://github.com/scikit-learn/scikit-learn/issues/21755 */display: inline-block !important;position: relative;}#sk-container-id-8 div.sk-text-repr-fallback {display: none;}</style><div id=\"sk-container-id-8\" class=\"sk-top-container\"><div class=\"sk-text-repr-fallback\"><pre>LinearRegression()</pre><b>In a Jupyter environment, please rerun this cell to show the HTML representation or trust the notebook. <br />On GitHub, the HTML representation is unable to render, please try loading this page with nbviewer.org.</b></div><div class=\"sk-container\" hidden><div class=\"sk-item\"><div class=\"sk-estimator sk-toggleable\"><input class=\"sk-toggleable__control sk-hidden--visually\" id=\"sk-estimator-id-8\" type=\"checkbox\" checked><label for=\"sk-estimator-id-8\" class=\"sk-toggleable__label sk-toggleable__label-arrow\">LinearRegression</label><div class=\"sk-toggleable__content\"><pre>LinearRegression()</pre></div></div></div></div></div>"
      ],
      "text/plain": [
       "LinearRegression()"
      ]
     },
     "execution_count": 41,
     "metadata": {},
     "output_type": "execute_result"
    }
   ],
   "source": [
    "lmtwo = LinearRegression()\n",
    "\n",
    "lmtwo.fit(X_polynomial, y_train)"
   ]
  },
  {
   "cell_type": "code",
   "execution_count": 42,
   "id": "3fdef0b0",
   "metadata": {},
   "outputs": [
    {
     "data": {
      "text/html": [
       "<div>\n",
       "<style scoped>\n",
       "    .dataframe tbody tr th:only-of-type {\n",
       "        vertical-align: middle;\n",
       "    }\n",
       "\n",
       "    .dataframe tbody tr th {\n",
       "        vertical-align: top;\n",
       "    }\n",
       "\n",
       "    .dataframe thead th {\n",
       "        text-align: right;\n",
       "    }\n",
       "</style>\n",
       "<table border=\"1\" class=\"dataframe\">\n",
       "  <thead>\n",
       "    <tr style=\"text-align: right;\">\n",
       "      <th></th>\n",
       "      <th>actual</th>\n",
       "      <th>baseline</th>\n",
       "    </tr>\n",
       "  </thead>\n",
       "  <tbody>\n",
       "    <tr>\n",
       "      <th>1756914</th>\n",
       "      <td>21988.0</td>\n",
       "      <td>22393.753906</td>\n",
       "    </tr>\n",
       "    <tr>\n",
       "      <th>136386</th>\n",
       "      <td>9497.0</td>\n",
       "      <td>22393.753906</td>\n",
       "    </tr>\n",
       "    <tr>\n",
       "      <th>818454</th>\n",
       "      <td>16999.0</td>\n",
       "      <td>22393.753906</td>\n",
       "    </tr>\n",
       "    <tr>\n",
       "      <th>1734593</th>\n",
       "      <td>15844.0</td>\n",
       "      <td>22393.753906</td>\n",
       "    </tr>\n",
       "    <tr>\n",
       "      <th>1250818</th>\n",
       "      <td>8990.0</td>\n",
       "      <td>22393.753906</td>\n",
       "    </tr>\n",
       "  </tbody>\n",
       "</table>\n",
       "</div>"
      ],
      "text/plain": [
       "          actual      baseline\n",
       "1756914  21988.0  22393.753906\n",
       "136386    9497.0  22393.753906\n",
       "818454   16999.0  22393.753906\n",
       "1734593  15844.0  22393.753906\n",
       "1250818   8990.0  22393.753906"
      ]
     },
     "execution_count": 42,
     "metadata": {},
     "output_type": "execute_result"
    }
   ],
   "source": [
    "val_preds = pd.DataFrame({'actual':y_val,\n",
    "                          'baseline':y_train.mean()})\n",
    "val_preds.head()"
   ]
  },
  {
   "cell_type": "code",
   "execution_count": 107,
   "id": "fd817889",
   "metadata": {},
   "outputs": [
    {
     "data": {
      "text/html": [
       "<div>\n",
       "<style scoped>\n",
       "    .dataframe tbody tr th:only-of-type {\n",
       "        vertical-align: middle;\n",
       "    }\n",
       "\n",
       "    .dataframe tbody tr th {\n",
       "        vertical-align: top;\n",
       "    }\n",
       "\n",
       "    .dataframe thead th {\n",
       "        text-align: right;\n",
       "    }\n",
       "</style>\n",
       "<table border=\"1\" class=\"dataframe\">\n",
       "  <thead>\n",
       "    <tr style=\"text-align: right;\">\n",
       "      <th></th>\n",
       "      <th>actual</th>\n",
       "      <th>baseline</th>\n",
       "      <th>lasso_preds</th>\n",
       "      <th>poly_preds</th>\n",
       "      <th>linear_preds</th>\n",
       "      <th>xgb_preds</th>\n",
       "    </tr>\n",
       "  </thead>\n",
       "  <tbody>\n",
       "    <tr>\n",
       "      <th>1756914</th>\n",
       "      <td>21988.0</td>\n",
       "      <td>22393.753906</td>\n",
       "      <td>30171.867188</td>\n",
       "      <td>29177.25</td>\n",
       "      <td>30344.353516</td>\n",
       "      <td>29927.585938</td>\n",
       "    </tr>\n",
       "    <tr>\n",
       "      <th>136386</th>\n",
       "      <td>9497.0</td>\n",
       "      <td>22393.753906</td>\n",
       "      <td>10772.420898</td>\n",
       "      <td>9270.25</td>\n",
       "      <td>12089.734375</td>\n",
       "      <td>12021.298828</td>\n",
       "    </tr>\n",
       "    <tr>\n",
       "      <th>818454</th>\n",
       "      <td>16999.0</td>\n",
       "      <td>22393.753906</td>\n",
       "      <td>23862.324219</td>\n",
       "      <td>23065.25</td>\n",
       "      <td>23423.791016</td>\n",
       "      <td>24101.085938</td>\n",
       "    </tr>\n",
       "    <tr>\n",
       "      <th>1734593</th>\n",
       "      <td>15844.0</td>\n",
       "      <td>22393.753906</td>\n",
       "      <td>21951.085938</td>\n",
       "      <td>20211.75</td>\n",
       "      <td>20959.767578</td>\n",
       "      <td>20161.863281</td>\n",
       "    </tr>\n",
       "    <tr>\n",
       "      <th>1250818</th>\n",
       "      <td>8990.0</td>\n",
       "      <td>22393.753906</td>\n",
       "      <td>10003.435547</td>\n",
       "      <td>8194.75</td>\n",
       "      <td>8524.167969</td>\n",
       "      <td>12685.928711</td>\n",
       "    </tr>\n",
       "  </tbody>\n",
       "</table>\n",
       "</div>"
      ],
      "text/plain": [
       "          actual      baseline   lasso_preds  poly_preds  linear_preds  \\\n",
       "1756914  21988.0  22393.753906  30171.867188    29177.25  30344.353516   \n",
       "136386    9497.0  22393.753906  10772.420898     9270.25  12089.734375   \n",
       "818454   16999.0  22393.753906  23862.324219    23065.25  23423.791016   \n",
       "1734593  15844.0  22393.753906  21951.085938    20211.75  20959.767578   \n",
       "1250818   8990.0  22393.753906  10003.435547     8194.75   8524.167969   \n",
       "\n",
       "            xgb_preds  \n",
       "1756914  29927.585938  \n",
       "136386   12021.298828  \n",
       "818454   24101.085938  \n",
       "1734593  20161.863281  \n",
       "1250818  12685.928711  "
      ]
     },
     "execution_count": 107,
     "metadata": {},
     "output_type": "execute_result"
    }
   ],
   "source": [
    "val_preds['lasso_preds'] = lasso.predict(X_val)\n",
    "\n",
    "val_preds['poly_preds'] = lmtwo.predict(X_val_polynomial)\n",
    "\n",
    "val_preds['linear_preds'] = lm.predict(X_val)\n",
    "\n",
    "val_preds['xgb_preds'] = xgb.predict(X_val)\n",
    "\n",
    "val_preds.head()"
   ]
  },
  {
   "cell_type": "code",
   "execution_count": 108,
   "id": "35411190",
   "metadata": {},
   "outputs": [],
   "source": [
    "baseline_rmse = rmse(val_preds, 'baseline')\n",
    "\n",
    "lasso_rmse = rmse(val_preds, 'lasso_preds')\n",
    "\n",
    "poly_rmse = rmse(val_preds, 'poly_preds')\n",
    "\n",
    "linear_rmse = rmse(val_preds, 'linear_preds')\n",
    "\n",
    "xgb_rmse = rmse(val_preds, 'xgb_preds')"
   ]
  },
  {
   "cell_type": "code",
   "execution_count": 109,
   "id": "cb4616fd",
   "metadata": {},
   "outputs": [
    {
     "data": {
      "text/html": [
       "<div>\n",
       "<style scoped>\n",
       "    .dataframe tbody tr th:only-of-type {\n",
       "        vertical-align: middle;\n",
       "    }\n",
       "\n",
       "    .dataframe tbody tr th {\n",
       "        vertical-align: top;\n",
       "    }\n",
       "\n",
       "    .dataframe thead th {\n",
       "        text-align: right;\n",
       "    }\n",
       "</style>\n",
       "<table border=\"1\" class=\"dataframe\">\n",
       "  <thead>\n",
       "    <tr style=\"text-align: right;\">\n",
       "      <th></th>\n",
       "      <th>model</th>\n",
       "      <th>rmse</th>\n",
       "    </tr>\n",
       "  </thead>\n",
       "  <tbody>\n",
       "    <tr>\n",
       "      <th>4</th>\n",
       "      <td>xgb</td>\n",
       "      <td>4091.321180</td>\n",
       "    </tr>\n",
       "    <tr>\n",
       "      <th>2</th>\n",
       "      <td>poly</td>\n",
       "      <td>4359.551353</td>\n",
       "    </tr>\n",
       "    <tr>\n",
       "      <th>3</th>\n",
       "      <td>linear</td>\n",
       "      <td>5655.309187</td>\n",
       "    </tr>\n",
       "    <tr>\n",
       "      <th>1</th>\n",
       "      <td>lasso</td>\n",
       "      <td>5682.859667</td>\n",
       "    </tr>\n",
       "    <tr>\n",
       "      <th>0</th>\n",
       "      <td>baseline</td>\n",
       "      <td>10904.487775</td>\n",
       "    </tr>\n",
       "  </tbody>\n",
       "</table>\n",
       "</div>"
      ],
      "text/plain": [
       "      model          rmse\n",
       "4       xgb   4091.321180\n",
       "2      poly   4359.551353\n",
       "3    linear   5655.309187\n",
       "1     lasso   5682.859667\n",
       "0  baseline  10904.487775"
      ]
     },
     "execution_count": 109,
     "metadata": {},
     "output_type": "execute_result"
    }
   ],
   "source": [
    "val_rmse_df = pd.DataFrame({'model':['baseline', 'lasso','poly', 'linear', 'xgb'],\n",
    "              'rmse':[baseline_rmse, lasso_rmse, poly_rmse, linear_rmse, xgb_rmse]})\n",
    "val_rmse_df.sort_values('rmse')"
   ]
  },
  {
   "cell_type": "code",
   "execution_count": 111,
   "id": "ffc8a959",
   "metadata": {},
   "outputs": [],
   "source": [
    "test_preds = pd.DataFrame({'actual':y_test,\n",
    "                          'test_pred':xgb.predict(X_test)})"
   ]
  },
  {
   "cell_type": "code",
   "execution_count": 112,
   "id": "5c8acb86",
   "metadata": {},
   "outputs": [
    {
     "data": {
      "text/plain": [
       "4098.61"
      ]
     },
     "execution_count": 112,
     "metadata": {},
     "output_type": "execute_result"
    }
   ],
   "source": [
    "round(rmse(test_preds, 'test_pred'), 2)"
   ]
  },
  {
   "cell_type": "code",
   "execution_count": null,
   "id": "610759f3",
   "metadata": {},
   "outputs": [],
   "source": []
  }
 ],
 "metadata": {
  "kernelspec": {
   "display_name": "Python 3 (ipykernel)",
   "language": "python",
   "name": "python3"
  },
  "language_info": {
   "codemirror_mode": {
    "name": "ipython",
    "version": 3
   },
   "file_extension": ".py",
   "mimetype": "text/x-python",
   "name": "python",
   "nbconvert_exporter": "python",
   "pygments_lexer": "ipython3",
   "version": "3.9.13"
  }
 },
 "nbformat": 4,
 "nbformat_minor": 5
}
